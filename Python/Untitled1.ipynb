{
 "cells": [
  {
   "cell_type": "code",
   "execution_count": 1,
   "id": "82187d33-ccb1-4079-9e40-dbd2f3a4d245",
   "metadata": {},
   "outputs": [
    {
     "name": "stdout",
     "output_type": "stream",
     "text": [
      "Hello prectice class\n"
     ]
    }
   ],
   "source": [
    "print(\"Hello prectice class\")"
   ]
  },
  {
   "cell_type": "code",
   "execution_count": 2,
   "id": "50e2f8de-56c3-45a5-b1c3-7ecccca26e66",
   "metadata": {},
   "outputs": [
    {
     "name": "stdout",
     "output_type": "stream",
     "text": [
      "This Mr AGS\n"
     ]
    }
   ],
   "source": [
    "print('This Mr AGS')"
   ]
  },
  {
   "cell_type": "code",
   "execution_count": 4,
   "id": "2c2b6c84-5d1a-4401-bbbe-2926baf8853e",
   "metadata": {},
   "outputs": [
    {
     "data": {
      "text/plain": [
       "'Maju'"
      ]
     },
     "execution_count": 4,
     "metadata": {},
     "output_type": "execute_result"
    }
   ],
   "source": [
    "\"Maju\""
   ]
  },
  {
   "cell_type": "code",
   "execution_count": 5,
   "id": "ae165483-4b05-4b4f-9206-12870b5dff33",
   "metadata": {},
   "outputs": [
    {
     "data": {
      "text/plain": [
       "52"
      ]
     },
     "execution_count": 5,
     "metadata": {},
     "output_type": "execute_result"
    }
   ],
   "source": [
    "A=23\n",
    "B=29\n",
    "A+B\n"
   ]
  },
  {
   "cell_type": "code",
   "execution_count": 6,
   "id": "48598f17-edf7-4ec7-b326-c4f66f0a25bd",
   "metadata": {},
   "outputs": [
    {
     "data": {
      "text/plain": [
       "667"
      ]
     },
     "execution_count": 6,
     "metadata": {},
     "output_type": "execute_result"
    }
   ],
   "source": [
    "C= A*B\n",
    "C"
   ]
  },
  {
   "cell_type": "code",
   "execution_count": 8,
   "id": "3816a227-9360-4573-af69-31cb77cd090a",
   "metadata": {},
   "outputs": [
    {
     "data": {
      "text/plain": [
       "6"
      ]
     },
     "execution_count": 8,
     "metadata": {},
     "output_type": "execute_result"
    }
   ],
   "source": [
    "B-A"
   ]
  },
  {
   "cell_type": "code",
   "execution_count": 9,
   "id": "9826145b-d7f3-4fd7-ac7c-c2be9b0c8f42",
   "metadata": {},
   "outputs": [
    {
     "data": {
      "text/plain": [
       "0.7931034482758621"
      ]
     },
     "execution_count": 9,
     "metadata": {},
     "output_type": "execute_result"
    }
   ],
   "source": [
    "A/B"
   ]
  },
  {
   "cell_type": "code",
   "execution_count": 10,
   "id": "a0aa26de-debc-4393-840b-802490630401",
   "metadata": {},
   "outputs": [
    {
     "data": {
      "text/plain": [
       "0"
      ]
     },
     "execution_count": 10,
     "metadata": {},
     "output_type": "execute_result"
    }
   ],
   "source": [
    "A//B"
   ]
  },
  {
   "cell_type": "code",
   "execution_count": 11,
   "id": "df408ae9-df78-4ef2-8ff7-9d612c08aed7",
   "metadata": {},
   "outputs": [
    {
     "data": {
      "text/plain": [
       "1"
      ]
     },
     "execution_count": 11,
     "metadata": {},
     "output_type": "execute_result"
    }
   ],
   "source": [
    "B//A"
   ]
  },
  {
   "cell_type": "code",
   "execution_count": 12,
   "id": "c409c427-a782-4ddd-a10f-9cba5dba9fa0",
   "metadata": {},
   "outputs": [
    {
     "data": {
      "text/plain": [
       "False"
      ]
     },
     "execution_count": 12,
     "metadata": {},
     "output_type": "execute_result"
    }
   ],
   "source": [
    "A>B"
   ]
  },
  {
   "cell_type": "code",
   "execution_count": 13,
   "id": "e0f565ce-a3b1-4539-91d9-fbcc0849ef9f",
   "metadata": {},
   "outputs": [
    {
     "data": {
      "text/plain": [
       "False"
      ]
     },
     "execution_count": 13,
     "metadata": {},
     "output_type": "execute_result"
    }
   ],
   "source": [
    "B<A"
   ]
  },
  {
   "cell_type": "code",
   "execution_count": 14,
   "id": "8b2d3f5c-96f5-4bf9-b652-9ac3bec72610",
   "metadata": {},
   "outputs": [
    {
     "data": {
      "text/plain": [
       "False"
      ]
     },
     "execution_count": 14,
     "metadata": {},
     "output_type": "execute_result"
    }
   ],
   "source": [
    "C==A\n"
   ]
  },
  {
   "cell_type": "code",
   "execution_count": 15,
   "id": "2998bcc3-8df4-4155-a5bc-9e0ae008651b",
   "metadata": {},
   "outputs": [
    {
     "data": {
      "text/plain": [
       "True"
      ]
     },
     "execution_count": 15,
     "metadata": {},
     "output_type": "execute_result"
    }
   ],
   "source": [
    "B>A"
   ]
  },
  {
   "cell_type": "code",
   "execution_count": 16,
   "id": "e68ceca3-582f-4fe5-a577-4965b05bf3f6",
   "metadata": {},
   "outputs": [
    {
     "data": {
      "text/plain": [
       "True"
      ]
     },
     "execution_count": 16,
     "metadata": {},
     "output_type": "execute_result"
    }
   ],
   "source": [
    "B>=A"
   ]
  },
  {
   "cell_type": "code",
   "execution_count": 17,
   "id": "bc3616e6-d84e-4079-b813-2af0dc74cbb6",
   "metadata": {},
   "outputs": [
    {
     "data": {
      "text/plain": [
       "True"
      ]
     },
     "execution_count": 17,
     "metadata": {},
     "output_type": "execute_result"
    }
   ],
   "source": [
    "A<=A"
   ]
  },
  {
   "cell_type": "code",
   "execution_count": 18,
   "id": "12d01f94-9917-4183-9c0b-177ba4f284f8",
   "metadata": {},
   "outputs": [
    {
     "data": {
      "text/plain": [
       "21"
      ]
     },
     "execution_count": 18,
     "metadata": {},
     "output_type": "execute_result"
    }
   ],
   "source": [
    "A & B "
   ]
  },
  {
   "cell_type": "code",
   "execution_count": 20,
   "id": "29abc8a0-b601-4626-9929-73e4239fe84b",
   "metadata": {},
   "outputs": [],
   "source": [
    "g = 25\n"
   ]
  },
  {
   "cell_type": "code",
   "execution_count": 26,
   "id": "a7559fd4-f14e-4ad3-b082-a745dec4acfe",
   "metadata": {},
   "outputs": [
    {
     "data": {
      "text/plain": [
       "12.5"
      ]
     },
     "execution_count": 26,
     "metadata": {},
     "output_type": "execute_result"
    }
   ],
   "source": [
    "g*(1/2)"
   ]
  },
  {
   "cell_type": "code",
   "execution_count": 23,
   "id": "c5815dc9-845d-41c7-882e-64ef6ebf79b4",
   "metadata": {},
   "outputs": [
    {
     "data": {
      "text/plain": [
       "5.0"
      ]
     },
     "execution_count": 23,
     "metadata": {},
     "output_type": "execute_result"
    }
   ],
   "source": [
    "g**0.5"
   ]
  },
  {
   "cell_type": "code",
   "execution_count": 28,
   "id": "21c014fb-2d71-4530-b18e-531023c0bbcd",
   "metadata": {},
   "outputs": [
    {
     "name": "stdout",
     "output_type": "stream",
     "text": [
      "23 29 667 25\n"
     ]
    }
   ],
   "source": [
    "print(A,B,C,g)"
   ]
  },
  {
   "cell_type": "code",
   "execution_count": 27,
   "id": "9b368fa2-d14a-4f00-a482-3f8e65a521f8",
   "metadata": {},
   "outputs": [
    {
     "data": {
      "text/plain": [
       "693.68"
      ]
     },
     "execution_count": 27,
     "metadata": {},
     "output_type": "execute_result"
    }
   ],
   "source": [
    "A*B+C/g"
   ]
  },
  {
   "cell_type": "code",
   "execution_count": 29,
   "id": "713a2b51-747a-47f9-b48c-85358ce558bc",
   "metadata": {},
   "outputs": [
    {
     "data": {
      "text/plain": [
       "14766"
      ]
     },
     "execution_count": 29,
     "metadata": {},
     "output_type": "execute_result"
    }
   ],
   "source": [
    "A*(C-g)"
   ]
  },
  {
   "cell_type": "code",
   "execution_count": 30,
   "id": "123f93d8-d5f9-483e-bfd4-7717b86f18aa",
   "metadata": {},
   "outputs": [
    {
     "data": {
      "text/plain": [
       "1"
      ]
     },
     "execution_count": 30,
     "metadata": {},
     "output_type": "execute_result"
    }
   ],
   "source": [
    "7%3"
   ]
  },
  {
   "cell_type": "code",
   "execution_count": 31,
   "id": "36b8ccad-5ba7-4084-828a-81829396b018",
   "metadata": {},
   "outputs": [
    {
     "data": {
      "text/plain": [
       "3"
      ]
     },
     "execution_count": 31,
     "metadata": {},
     "output_type": "execute_result"
    }
   ],
   "source": [
    "3%7"
   ]
  },
  {
   "cell_type": "code",
   "execution_count": 34,
   "id": "38541bd5-7cfd-4805-a88a-624fa765e051",
   "metadata": {},
   "outputs": [
    {
     "data": {
      "text/plain": [
       "4"
      ]
     },
     "execution_count": 34,
     "metadata": {},
     "output_type": "execute_result"
    }
   ],
   "source": [
    "4%7"
   ]
  },
  {
   "cell_type": "code",
   "execution_count": 35,
   "id": "0fa1162b-de2a-4a8d-8dce-fe43e5cb8ce5",
   "metadata": {},
   "outputs": [
    {
     "data": {
      "text/plain": [
       "True"
      ]
     },
     "execution_count": 35,
     "metadata": {},
     "output_type": "execute_result"
    }
   ],
   "source": [
    "B>A and C>g"
   ]
  },
  {
   "cell_type": "code",
   "execution_count": 38,
   "id": "57ff5e08-8b9c-402e-ba5e-920cc730a80a",
   "metadata": {},
   "outputs": [
    {
     "data": {
      "text/plain": [
       "False"
      ]
     },
     "execution_count": 38,
     "metadata": {},
     "output_type": "execute_result"
    }
   ],
   "source": [
    "B<A or C<g"
   ]
  },
  {
   "cell_type": "code",
   "execution_count": 42,
   "id": "3cfcb783-41ff-4ba1-990d-fd7dd6692fb6",
   "metadata": {},
   "outputs": [
    {
     "data": {
      "text/plain": [
       "\"This is Samad's PC\""
      ]
     },
     "execution_count": 42,
     "metadata": {},
     "output_type": "execute_result"
    }
   ],
   "source": [
    "status= \"This is Samad's PC\"\n",
    "status"
   ]
  },
  {
   "cell_type": "code",
   "execution_count": 44,
   "id": "2c48be66-3be8-4aef-a767-79716819b0bc",
   "metadata": {},
   "outputs": [
    {
     "name": "stdout",
     "output_type": "stream",
     "text": [
      "samad.123@maju\n"
     ]
    }
   ],
   "source": [
    "a = \"samad\"\n",
    "b= \"maju\"\n",
    "c= 123\n",
    "\n",
    "print(a, end=\".\")\n",
    "print(c, end=\"@\")\n",
    "print(b)"
   ]
  },
  {
   "cell_type": "code",
   "execution_count": 49,
   "id": "3167041c-bbd2-47cc-89be-f27cce7e4230",
   "metadata": {},
   "outputs": [
    {
     "data": {
      "text/plain": [
       "2"
      ]
     },
     "execution_count": 49,
     "metadata": {},
     "output_type": "execute_result"
    }
   ],
   "source": [
    "my_courses= 2\n",
    "my_courses"
   ]
  },
  {
   "cell_type": "code",
   "execution_count": 52,
   "id": "44778f30-c06c-4962-9c59-1d1e50c58344",
   "metadata": {},
   "outputs": [],
   "source": [
    "my_courses=['API','ASD']"
   ]
  },
  {
   "cell_type": "code",
   "execution_count": 53,
   "id": "afe31b76-f8d8-4732-ab0a-241b50ce9b99",
   "metadata": {},
   "outputs": [
    {
     "data": {
      "text/plain": [
       "['API', 'ASD']"
      ]
     },
     "execution_count": 53,
     "metadata": {},
     "output_type": "execute_result"
    }
   ],
   "source": [
    "my_courses"
   ]
  },
  {
   "cell_type": "code",
   "execution_count": 54,
   "id": "3b5964a6-265d-4a9b-b118-77907ce545ee",
   "metadata": {},
   "outputs": [
    {
     "data": {
      "text/plain": [
       "int"
      ]
     },
     "execution_count": 54,
     "metadata": {},
     "output_type": "execute_result"
    }
   ],
   "source": [
    "type(A)"
   ]
  },
  {
   "cell_type": "code",
   "execution_count": 55,
   "id": "884b0d00-50d8-499e-9f2c-010257e7141e",
   "metadata": {},
   "outputs": [
    {
     "name": "stdout",
     "output_type": "stream",
     "text": [
      "<class 'list'>\n"
     ]
    }
   ],
   "source": [
    "print(type(my_courses))"
   ]
  },
  {
   "cell_type": "code",
   "execution_count": 56,
   "id": "fc67ef2d-2ce2-43d5-a712-7afb0e1d8646",
   "metadata": {},
   "outputs": [],
   "source": [
    "a1 = a*2"
   ]
  },
  {
   "cell_type": "code",
   "execution_count": 57,
   "id": "68368e14-f8af-461d-a67f-c48bb26dc5f7",
   "metadata": {},
   "outputs": [
    {
     "data": {
      "text/plain": [
       "'samadsamad'"
      ]
     },
     "execution_count": 57,
     "metadata": {},
     "output_type": "execute_result"
    }
   ],
   "source": [
    "a1"
   ]
  },
  {
   "cell_type": "code",
   "execution_count": 58,
   "id": "78ceeb93-00a2-40ef-8df3-0e4b30b32e8b",
   "metadata": {},
   "outputs": [],
   "source": [
    "a2 = A*3"
   ]
  },
  {
   "cell_type": "code",
   "execution_count": 59,
   "id": "5e9bd130-2a3f-45fa-8bd0-b23f3fc12cf5",
   "metadata": {},
   "outputs": [
    {
     "data": {
      "text/plain": [
       "69"
      ]
     },
     "execution_count": 59,
     "metadata": {},
     "output_type": "execute_result"
    }
   ],
   "source": [
    "a2"
   ]
  },
  {
   "cell_type": "code",
   "execution_count": 64,
   "id": "10854cb8-8f32-4eac-ae68-5c8ac59fbdc4",
   "metadata": {},
   "outputs": [],
   "source": [
    "a1=a1*2"
   ]
  },
  {
   "cell_type": "code",
   "execution_count": 65,
   "id": "2645bd38-3b88-4c0e-b8d8-50602cafaad9",
   "metadata": {},
   "outputs": [
    {
     "data": {
      "text/plain": [
       "'samadsamadsamadsamadsamadsamadsamadsamadsamadsamadsamadsamadsamadsamadsamadsamadsamadsamadsamadsamadsamadsamadsamadsamadsamadsamadsamadsamadsamadsamadsamadsamadsamadsamadsamadsamadsamadsamadsamadsamadsamadsamadsamadsamadsamadsamadsamadsamadsamadsamadsamadsamadsamadsamadsamadsamadsamadsamadsamadsamadsamadsamadsamadsamadsamadsamadsamadsamadsamadsamadsamadsamadsamadsamadsamadsamadsamadsamadsamadsamadsamadsamadsamadsamadsamadsamadsamadsamadsamadsamadsamadsamadsamadsamadsamadsamadsamadsamadsamadsamadsamadsamadsamadsamadsamadsamadsamadsamadsamadsamadsamadsamadsamadsamadsamadsamadsamadsamadsamadsamadsamadsamadsamadsamadsamadsamadsamadsamadsamadsamadsamadsamadsamadsamadsamadsamadsamadsamadsamadsamadsamadsamadsamadsamadsamadsamadsamadsamadsamadsamadsamadsamadsamadsamadsamadsamadsamadsamadsamadsamadsamadsamadsamadsamadsamadsamadsamadsamadsamadsamadsamadsamadsamadsamadsamadsamadsamadsamadsamadsamadsamadsamadsamadsamadsamadsamadsamadsamadsamadsamadsamadsamadsamadsamadsamadsamadsamadsamadsamadsamadsamadsamadsamadsamadsamadsamadsamadsamadsamadsamadsamadsamadsamadsamadsamadsamadsamadsamadsamadsamadsamadsamadsamadsamadsamadsamadsamadsamadsamadsamadsamadsamadsamadsamadsamadsamadsamadsamadsamadsamadsamadsamadsamadsamadsamadsamadsamadsamadsamadsamadsamadsamadsamadsamadsamadsamadsamadsamadsamadsamadsamadsamadsamadsamadsamadsamadsamadsamadsamadsamadsamadsamadsamadsamadsamadsamad'"
      ]
     },
     "execution_count": 65,
     "metadata": {},
     "output_type": "execute_result"
    }
   ],
   "source": [
    "a1*a2"
   ]
  },
  {
   "cell_type": "code",
   "execution_count": 66,
   "id": "05f29e0a-932b-451f-9864-5f3c6d02666d",
   "metadata": {},
   "outputs": [
    {
     "data": {
      "text/plain": [
       "'samadsamadsamadsamad'"
      ]
     },
     "execution_count": 66,
     "metadata": {},
     "output_type": "execute_result"
    }
   ],
   "source": [
    "a1"
   ]
  },
  {
   "cell_type": "code",
   "execution_count": 67,
   "id": "bca7eb07-350d-4691-b32a-9d6071cbc57a",
   "metadata": {},
   "outputs": [],
   "source": [
    "x = 23\n",
    "y = 22\n",
    "z  = x//y\n"
   ]
  },
  {
   "cell_type": "code",
   "execution_count": 68,
   "id": "9e588b04-3afe-4880-ae14-426db7ef4e42",
   "metadata": {},
   "outputs": [
    {
     "data": {
      "text/plain": [
       "1"
      ]
     },
     "execution_count": 68,
     "metadata": {},
     "output_type": "execute_result"
    }
   ],
   "source": [
    "z"
   ]
  },
  {
   "cell_type": "code",
   "execution_count": 69,
   "id": "a408566f-1aee-40dc-8ee9-93bc6f5f3b76",
   "metadata": {},
   "outputs": [
    {
     "data": {
      "text/plain": [
       "1"
      ]
     },
     "execution_count": 69,
     "metadata": {},
     "output_type": "execute_result"
    }
   ],
   "source": [
    "x%y"
   ]
  },
  {
   "cell_type": "code",
   "execution_count": 70,
   "id": "95551398-b9c3-45aa-b66f-bcf79ed6509b",
   "metadata": {},
   "outputs": [
    {
     "name": "stdout",
     "output_type": "stream",
     "text": [
      "Ghafoor Abdul\n"
     ]
    }
   ],
   "source": [
    "a = \"Abdul\"\n",
    "b = \"Ghafoor\"\n",
    "\n",
    "temp =  a \n",
    "a= b\n",
    "b= temp \n",
    "print(a,b)"
   ]
  },
  {
   "cell_type": "code",
   "execution_count": 72,
   "id": "41223094-8885-4c6a-bb58-16df9dea2819",
   "metadata": {},
   "outputs": [
    {
     "data": {
      "text/plain": [
       "'soomro, Ghafoor Abdul'"
      ]
     },
     "execution_count": 72,
     "metadata": {},
     "output_type": "execute_result"
    }
   ],
   "source": [
    "a = \"Abdul\"\n",
    "b = \"Ghafoor\"\n",
    "c = \"Soomro\"\n",
    "\n",
    "\"soomro, Ghafoor Abdul\""
   ]
  },
  {
   "cell_type": "code",
   "execution_count": 73,
   "id": "10cc52e4-9882-48d4-b770-564c80671321",
   "metadata": {},
   "outputs": [],
   "source": [
    "a,b,c = c,b,a "
   ]
  },
  {
   "cell_type": "code",
   "execution_count": 74,
   "id": "b1b98c43-0244-488b-a984-15ef7339bc9e",
   "metadata": {},
   "outputs": [
    {
     "name": "stdout",
     "output_type": "stream",
     "text": [
      "Soomro Ghafoor Abdul\n"
     ]
    }
   ],
   "source": [
    "print(a,b,c)"
   ]
  },
  {
   "cell_type": "code",
   "execution_count": 81,
   "id": "a9bb4eca-7ccb-4ef8-a05f-f244bd1cc6ca",
   "metadata": {},
   "outputs": [],
   "source": [
    "a = 5\n",
    "b = 7\n",
    "c = 3\n",
    "d = 4\n"
   ]
  },
  {
   "cell_type": "code",
   "execution_count": 82,
   "id": "a924863c-2470-40b1-9104-45e38d6644ce",
   "metadata": {},
   "outputs": [
    {
     "data": {
      "text/plain": [
       "'Assign 5, 7, 3, 4 to variables a, b, c, d respectivily and by using any swapping method reassign 3 to b, 5 to d, 7 to a and 4 to c. Now print them.'"
      ]
     },
     "execution_count": 82,
     "metadata": {},
     "output_type": "execute_result"
    }
   ],
   "source": [
    "## Task 03 (9 pts)\n",
    "\"Assign 5, 7, 3, 4 to variables a, b, c, d respectivily and by using any swapping method reassign 3 to b, 5 to d, 7 to a and 4 to c. Now print them.\""
   ]
  },
  {
   "cell_type": "code",
   "execution_count": 83,
   "id": "a5892d20-f80f-4ff4-95f5-d337a3818623",
   "metadata": {},
   "outputs": [],
   "source": [
    "a,b,c,d = b,c,d,a"
   ]
  },
  {
   "cell_type": "code",
   "execution_count": 88,
   "id": "5ec011e5-d33e-4312-86cc-f278634553a1",
   "metadata": {},
   "outputs": [
    {
     "name": "stdout",
     "output_type": "stream",
     "text": [
      "Updated : A 7 Updated : B 3 Updated : C 4 Updated : D 5\n"
     ]
    }
   ],
   "source": [
    "print(\"Updated : A\",a,\"Updated : B\",b,\"Updated : C\",c,\"Updated : D\",d)"
   ]
  },
  {
   "cell_type": "code",
   "execution_count": 90,
   "id": "1040871d-2e00-447b-b35c-3cec77d746f8",
   "metadata": {},
   "outputs": [
    {
     "name": "stdin",
     "output_type": "stream",
     "text": [
      "Whole Number =  12\n"
     ]
    },
    {
     "data": {
      "text/plain": [
       "36"
      ]
     },
     "execution_count": 90,
     "metadata": {},
     "output_type": "execute_result"
    }
   ],
   "source": [
    "wholeNumber= int(input(\"Whole Number = \"))\n",
    "wholeNumber*3"
   ]
  },
  {
   "cell_type": "code",
   "execution_count": 91,
   "id": "95d1957e-507f-40fc-a967-5d2dc1b86f86",
   "metadata": {},
   "outputs": [
    {
     "data": {
      "text/plain": [
       "False"
      ]
     },
     "execution_count": 91,
     "metadata": {},
     "output_type": "execute_result"
    }
   ],
   "source": [
    "wholeNumber == 88"
   ]
  },
  {
   "cell_type": "code",
   "execution_count": 96,
   "id": "926a10df-c95b-432d-995f-ed7f43d9d4a9",
   "metadata": {},
   "outputs": [],
   "source": [
    "name= \"Abdul Ghafoor\""
   ]
  },
  {
   "cell_type": "code",
   "execution_count": 97,
   "id": "fa66ef99-e3d3-4551-8ebb-f62c740cb218",
   "metadata": {},
   "outputs": [
    {
     "name": "stdout",
     "output_type": "stream",
     "text": [
      "A r\n"
     ]
    }
   ],
   "source": [
    "print(name[0],name[-1])"
   ]
  },
  {
   "cell_type": "code",
   "execution_count": 98,
   "id": "a48fbfd2-e37c-4d98-a59f-f61b26906eae",
   "metadata": {},
   "outputs": [
    {
     "name": "stdout",
     "output_type": "stream",
     "text": [
      "A o\n"
     ]
    }
   ],
   "source": [
    "print(name[0],name[-2])"
   ]
  },
  {
   "cell_type": "code",
   "execution_count": 100,
   "id": "fd6e0b8e-0bdc-4adb-b76f-d0dec612d23c",
   "metadata": {},
   "outputs": [
    {
     "name": "stdout",
     "output_type": "stream",
     "text": [
      "G r\n"
     ]
    }
   ],
   "source": [
    "print(name[3],name[-1])"
   ]
  },
  {
   "cell_type": "code",
   "execution_count": 102,
   "id": "0d0ec42d-ea61-482d-a508-c17c1183a7b5",
   "metadata": {},
   "outputs": [
    {
     "name": "stdout",
     "output_type": "stream",
     "text": [
      "Abdu\n"
     ]
    }
   ],
   "source": [
    "print(name[0:4])"
   ]
  },
  {
   "cell_type": "code",
   "execution_count": 107,
   "id": "c84cefc9-3bac-486b-ae22-9d411f86e203",
   "metadata": {},
   "outputs": [
    {
     "name": "stdin",
     "output_type": "stream",
     "text": [
      "Enter your CGPA:  3.0\n"
     ]
    },
    {
     "name": "stdout",
     "output_type": "stream",
     "text": [
      "Good Job\n"
     ]
    }
   ],
   "source": [
    "cgpa = float(input(\"Enter your CGPA: \"))\n",
    "\n",
    "if cgpa < 2.5:\n",
    "    print(\"You need to improve your Grades\")\n",
    "elif 2.5 <= cgpa < 3.0:\n",
    "    print(\"Good Job but need to work Hard\")\n",
    "elif 3.0 <= cgpa < 3.5:\n",
    "    print(\"Good Job\")\n",
    "else:\n",
    "    print(\"Great Work\")\n"
   ]
  },
  {
   "cell_type": "code",
   "execution_count": 109,
   "id": "df916477-f21a-4625-9132-edce109b485a",
   "metadata": {},
   "outputs": [
    {
     "name": "stdout",
     "output_type": "stream",
     "text": [
      "4\n"
     ]
    }
   ],
   "source": [
    "vouvel_count= \"Abdul Ghafoor S\"\n",
    "count = 0 \n",
    "for i in vouvel_count:\n",
    "    if i in (\"aeiou\"):\n",
    "        count +=1\n",
    "print(count)\n",
    "        "
   ]
  },
  {
   "cell_type": "code",
   "execution_count": 114,
   "id": "eaf50890-2d59-40df-97b8-9a517188f499",
   "metadata": {},
   "outputs": [
    {
     "name": "stdin",
     "output_type": "stream",
     "text": [
      "startingNumber =  1\n",
      "endingNumber =  10\n",
      "size =  1\n"
     ]
    },
    {
     "name": "stdout",
     "output_type": "stream",
     "text": [
      "1 * 99 = 99\n",
      "2 * 99 = 198\n",
      "3 * 99 = 297\n",
      "4 * 99 = 396\n",
      "5 * 99 = 495\n",
      "6 * 99 = 594\n",
      "7 * 99 = 693\n",
      "8 * 99 = 792\n",
      "9 * 99 = 891\n"
     ]
    }
   ],
   "source": [
    "startingNumber = int(input(\"startingNumber = \"))\n",
    "endingNumber = int(input(\"endingNumber = \"))\n",
    "stepSize = int(input(\"size = \"))\n",
    "for i in range(startingNumber, endingNumber, stepSize):\n",
    "  print(f\"{i} * 99 = {i*99}\")"
   ]
  },
  {
   "cell_type": "code",
   "execution_count": null,
   "id": "fdff61b3-de19-4672-bcb4-4c8d6c3c84ef",
   "metadata": {},
   "outputs": [],
   "source": []
  }
 ],
 "metadata": {
  "kernelspec": {
   "display_name": "Python 3 (ipykernel)",
   "language": "python",
   "name": "python3"
  },
  "language_info": {
   "codemirror_mode": {
    "name": "ipython",
    "version": 3
   },
   "file_extension": ".py",
   "mimetype": "text/x-python",
   "name": "python",
   "nbconvert_exporter": "python",
   "pygments_lexer": "ipython3",
   "version": "3.12.3"
  }
 },
 "nbformat": 4,
 "nbformat_minor": 5
}
