{
 "cells": [
  {
   "cell_type": "code",
   "execution_count": 8,
   "id": "e251f27c-73d9-40fa-a700-0d2cf4c63d48",
   "metadata": {},
   "outputs": [],
   "source": [
    "# AND operation\n",
    "def AND(a, b):\n",
    "    return a and b\n",
    "\n",
    "# OR operation\n",
    "def OR(a, b):\n",
    "    return a or b\n",
    "\n",
    "# NOT operation\n",
    "def NOT(a):\n",
    "    return not a\n",
    "\n",
    "# IMPLIES operation (A -> B is equivalent to ¬A OR B)\n",
    "def IMPLIES(a, b):\n",
    "    return NOT(a) or b\n"
   ]
  },
  {
   "cell_type": "code",
   "execution_count": 9,
   "id": "487850fa-ccb9-4c2b-9cd3-29635077a00e",
   "metadata": {},
   "outputs": [
    {
     "name": "stdout",
     "output_type": "stream",
     "text": [
      "A AND B: False\n",
      "A OR B: True\n",
      "NOT A: False\n",
      "A IMPLIES B: False\n"
     ]
    }
   ],
   "source": [
    "# Define propositions\n",
    "A = True\n",
    "B = False\n",
    "\n",
    "# Perform logical operations\n",
    "print(\"A AND B:\", AND(A, B))  # False\n",
    "print(\"A OR B:\", OR(A, B))    # True\n",
    "print(\"NOT A:\", NOT(A))        # False\n",
    "print(\"A IMPLIES B:\", IMPLIES(A, B))  # False\n"
   ]
  },
  {
   "cell_type": "code",
   "execution_count": 10,
   "id": "c6ad7c0f-cea1-40e8-b8fb-4b675287c9cb",
   "metadata": {},
   "outputs": [
    {
     "name": "stdout",
     "output_type": "stream",
     "text": [
      "A\tB\tA AND B\tA OR B\tNOT A\tA IMPLIES B\n",
      "True\tTrue\tTrue\tTrue\tFalse\tTrue\n",
      "True\tFalse\tFalse\tTrue\tFalse\tFalse\n",
      "False\tTrue\tFalse\tTrue\tTrue\tTrue\n",
      "False\tFalse\tFalse\tFalse\tTrue\tTrue\n"
     ]
    }
   ],
   "source": [
    "import itertools\n",
    "\n",
    "def truth_table():\n",
    "    print(\"A\\tB\\tA AND B\\tA OR B\\tNOT A\\tA IMPLIES B\")\n",
    "    for values in itertools.product([True, False], repeat=2):\n",
    "        A, B = values\n",
    "        print(f\"{A}\\t{B}\\t{AND(A, B)}\\t{OR(A, B)}\\t{NOT(A)}\\t{IMPLIES(A, B)}\")\n",
    "\n",
    "# Display the truth table\n",
    "truth_table()\n"
   ]
  },
  {
   "cell_type": "code",
   "execution_count": 5,
   "id": "fa1e1af3-56ac-4e9f-91f7-460d77e0558a",
   "metadata": {},
   "outputs": [
    {
     "name": "stdout",
     "output_type": "stream",
     "text": [
      "P Q R\n"
     ]
    }
   ],
   "source": [
    "from sympy import symbols\n",
    "\n",
    "# Define symbolic variables for logical expressions\n",
    "P, Q, R = symbols('P Q R')\n",
    "\n",
    "# Check the symbolic variables\n",
    "print(P, Q, R)\n"
   ]
  },
  {
   "cell_type": "code",
   "execution_count": 6,
   "id": "67bcf6c3-1e69-42fc-929d-7f76ada01359",
   "metadata": {},
   "outputs": [
    {
     "name": "stdout",
     "output_type": "stream",
     "text": [
      "P & (Q | ~R)\n"
     ]
    }
   ],
   "source": [
    "from sympy import And, Or, Not\n",
    "\n",
    "# Example of a logical expression\n",
    "expression = And(P, Or(Q, Not(R)))\n",
    "print(expression)\n"
   ]
  },
  {
   "cell_type": "code",
   "execution_count": 7,
   "id": "164a44bd-77ae-4657-8c4e-1e1e2eeaede1",
   "metadata": {},
   "outputs": [
    {
     "name": "stdout",
     "output_type": "stream",
     "text": [
      "P | Q | R | P & (Q | ~R)\n",
      "------------------------\n",
      "True | True | True | True\n",
      "True | True | False | True\n",
      "True | False | True | False\n",
      "True | False | False | True\n",
      "False | True | True | False\n",
      "False | True | False | False\n",
      "False | False | True | False\n",
      "False | False | False | False\n"
     ]
    }
   ],
   "source": [
    "from sympy import symbols, And, Or, Not\n",
    "from itertools import product\n",
    "\n",
    "# Define symbolic variables\n",
    "P, Q, R = symbols('P Q R')\n",
    "\n",
    "# Define the logical expression\n",
    "expression = And(P, Or(Q, Not(R)))\n",
    "\n",
    "# Function to print the truth table\n",
    "def print_truth_table(expr, variables):\n",
    "    # Print header\n",
    "    header = \" | \".join([str(v) for v in variables] + [str(expr)])\n",
    "    print(header)\n",
    "    print(\"-\" * len(header))\n",
    "    \n",
    "    # Iterate over all combinations of True (1) and False (0) for each variable\n",
    "    for values in product([True, False], repeat=len(variables)):\n",
    "        # Substitute values into the expression and evaluate\n",
    "        result = expr.subs(dict(zip(variables, values)))\n",
    "        # Print the current row of the truth table\n",
    "        row = \" | \".join([str(v) for v in values] + [str(result)])\n",
    "        print(row)\n",
    "\n",
    "# Print the truth table for the expression\n",
    "print_truth_table(expression, [P, Q, R])\n"
   ]
  },
  {
   "cell_type": "code",
   "execution_count": 14,
   "id": "05612d7b-3dda-4ec1-9caf-6749d652b9f5",
   "metadata": {},
   "outputs": [],
   "source": [
    "from logic import *"
   ]
  },
  {
   "cell_type": "code",
   "execution_count": 22,
   "id": "1a1c85b0-d9b5-4770-b49e-2500d79e4e97",
   "metadata": {},
   "outputs": [],
   "source": [
    "P,Q,R = vars('P','Q','R')"
   ]
  },
  {
   "cell_type": "code",
   "execution_count": 23,
   "id": "13022af3-3528-4fb9-9cc9-512cf29db4f1",
   "metadata": {},
   "outputs": [
    {
     "data": {
      "text/plain": [
       "Proposition( P )"
      ]
     },
     "execution_count": 23,
     "metadata": {},
     "output_type": "execute_result"
    }
   ],
   "source": [
    "P"
   ]
  },
  {
   "cell_type": "code",
   "execution_count": 24,
   "id": "4a92e6b4-188b-476d-b389-f162ab88e71a",
   "metadata": {},
   "outputs": [
    {
     "data": {
      "text/plain": [
       "Proposition( Q )"
      ]
     },
     "execution_count": 24,
     "metadata": {},
     "output_type": "execute_result"
    }
   ],
   "source": [
    "Q"
   ]
  },
  {
   "cell_type": "code",
   "execution_count": 25,
   "id": "511606d3-2dad-400c-80d6-9c6870f5b726",
   "metadata": {},
   "outputs": [
    {
     "data": {
      "text/plain": [
       "Proposition( R )"
      ]
     },
     "execution_count": 25,
     "metadata": {},
     "output_type": "execute_result"
    }
   ],
   "source": [
    "R"
   ]
  },
  {
   "cell_type": "code",
   "execution_count": 28,
   "id": "df322b37-a6be-41a3-852f-332f48a4dbf1",
   "metadata": {},
   "outputs": [],
   "source": [
    "formula1 = ((P|Q)&~R)"
   ]
  },
  {
   "cell_type": "code",
   "execution_count": 29,
   "id": "84c6f81c-db49-4fd4-8cbf-2801dbd85442",
   "metadata": {},
   "outputs": [
    {
     "data": {
      "text/plain": [
       "Proposition( (P v Q) ^ ¬R )"
      ]
     },
     "execution_count": 29,
     "metadata": {},
     "output_type": "execute_result"
    }
   ],
   "source": [
    "formula1"
   ]
  },
  {
   "cell_type": "code",
   "execution_count": 31,
   "id": "beaf8213-4706-4ed6-a19a-42a2e3a58fae",
   "metadata": {},
   "outputs": [
    {
     "name": "stdout",
     "output_type": "stream",
     "text": [
      "  P      Q      R    #  (P v Q) ^ ¬R\n",
      "####################################\n",
      "True   True   True   #     False    \n",
      "True   True   False  #      True    \n",
      "True   False  True   #     False    \n",
      "True   False  False  #      True    \n",
      "False  True   True   #     False    \n",
      "False  True   False  #      True    \n",
      "False  False  True   #     False    \n",
      "False  False  False  #     False    \n",
      "\n"
     ]
    }
   ],
   "source": [
    "formula1.print_truth_table()"
   ]
  },
  {
   "cell_type": "code",
   "execution_count": 34,
   "id": "9142cd93-149f-4728-ab05-3fd1aa1ac370",
   "metadata": {},
   "outputs": [
    {
     "data": {
      "text/plain": [
       "False"
      ]
     },
     "execution_count": 34,
     "metadata": {},
     "output_type": "execute_result"
    }
   ],
   "source": [
    "formula1.is_tautology()"
   ]
  },
  {
   "cell_type": "code",
   "execution_count": null,
   "id": "a70b593e-f9fb-4b92-af49-0f614e94378c",
   "metadata": {},
   "outputs": [],
   "source": []
  }
 ],
 "metadata": {
  "kernelspec": {
   "display_name": "Python 3 (ipykernel)",
   "language": "python",
   "name": "python3"
  },
  "language_info": {
   "codemirror_mode": {
    "name": "ipython",
    "version": 3
   },
   "file_extension": ".py",
   "mimetype": "text/x-python",
   "name": "python",
   "nbconvert_exporter": "python",
   "pygments_lexer": "ipython3",
   "version": "3.12.3"
  }
 },
 "nbformat": 4,
 "nbformat_minor": 5
}
