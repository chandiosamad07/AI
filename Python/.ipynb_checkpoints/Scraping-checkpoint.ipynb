{
 "cells": [
  {
   "cell_type": "code",
   "execution_count": 3,
   "id": "41e3e50b-d07f-4c68-9964-59e6dc785918",
   "metadata": {},
   "outputs": [],
   "source": [
    "from bs4 import BeautifulSoup\n",
    "import requests\n",
    "import pandas as pd\n",
    "import re"
   ]
  },
  {
   "cell_type": "code",
   "execution_count": 4,
   "id": "0a11a1a1-71c5-475d-83ea-44b9033d2d23",
   "metadata": {},
   "outputs": [],
   "source": [
    "url = 'https://en.wikipedia.org/wiki/List_of_largest_companies_in_the_United_States_by_revenue'\n"
   ]
  },
  {
   "cell_type": "code",
   "execution_count": 9,
   "id": "a91964cf-0684-4d85-a386-ce6f9b6cd57e",
   "metadata": {},
   "outputs": [],
   "source": [
    "req = requests.get(url)"
   ]
  },
  {
   "cell_type": "code",
   "execution_count": 10,
   "id": "38c89691-4815-4ac7-9d33-2a9467ffc2f6",
   "metadata": {},
   "outputs": [
    {
     "data": {
      "text/plain": [
       "200"
      ]
     },
     "execution_count": 10,
     "metadata": {},
     "output_type": "execute_result"
    }
   ],
   "source": [
    "req.status_code"
   ]
  },
  {
   "cell_type": "code",
   "execution_count": 12,
   "id": "d0bc666e-7441-4b9c-b1f0-3f9401200d11",
   "metadata": {},
   "outputs": [],
   "source": [
    "soup = BeautifulSoup(req.text,'html')"
   ]
  },
  {
   "cell_type": "code",
   "execution_count": 15,
   "id": "0ba57dd8-e8e3-4619-8cf5-66f6e57bcb84",
   "metadata": {},
   "outputs": [
    {
     "data": {
      "text/plain": [
       "<title>List of largest companies in the United States by revenue - Wikipedia</title>"
      ]
     },
     "execution_count": 15,
     "metadata": {},
     "output_type": "execute_result"
    }
   ],
   "source": [
    "soup.title"
   ]
  },
  {
   "cell_type": "code",
   "execution_count": 23,
   "id": "5a873a4f-f327-484f-aa30-d3eb3966c1c7",
   "metadata": {},
   "outputs": [
    {
     "data": {
      "text/plain": [
       "'Jump to content'"
      ]
     },
     "execution_count": 23,
     "metadata": {},
     "output_type": "execute_result"
    }
   ],
   "source": [
    "find = soup.find('a',{\"class\":\"mw-jump-link\"})\n",
    "find.text"
   ]
  },
  {
   "cell_type": "code",
   "execution_count": null,
   "id": "cb2276da-793f-4692-be0d-a7491951f95c",
   "metadata": {},
   "outputs": [],
   "source": []
  }
 ],
 "metadata": {
  "kernelspec": {
   "display_name": "Python 3 (ipykernel)",
   "language": "python",
   "name": "python3"
  },
  "language_info": {
   "codemirror_mode": {
    "name": "ipython",
    "version": 3
   },
   "file_extension": ".py",
   "mimetype": "text/x-python",
   "name": "python",
   "nbconvert_exporter": "python",
   "pygments_lexer": "ipython3",
   "version": "3.13.0"
  }
 },
 "nbformat": 4,
 "nbformat_minor": 5
}
