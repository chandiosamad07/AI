{
 "cells": [
  {
   "cell_type": "code",
   "execution_count": 1,
   "id": "487850fa-ccb9-4c2b-9cd3-29635077a00e",
   "metadata": {},
   "outputs": [],
   "source": [
    "# A * Search"
   ]
  },
  {
   "cell_type": "code",
   "execution_count": 2,
   "id": "e251f27c-73d9-40fa-a700-0d2cf4c63d48",
   "metadata": {},
   "outputs": [],
   "source": [
    "Graph_nodes = {\n",
    "    'A':[('B',6),('F',3)],\n",
    "    'B':[('C',3),('D',2)],\n",
    "    'C':[('D',1),('E',5)],\n",
    "    'D':[('C',1),('E',8)],\n",
    "    'E':[('I',5),('J',5)],\n",
    "    'F':[('G',1),('H',5)],\n",
    "    'G':[('I',3)],\n",
    "    'H':[('I',2)],\n",
    "    'I':[('E',5),('J',3)]\n",
    "}"
   ]
  },
  {
   "cell_type": "code",
   "execution_count": null,
   "id": "c6ad7c0f-cea1-40e8-b8fb-4b675287c9cb",
   "metadata": {},
   "outputs": [],
   "source": []
  }
 ],
 "metadata": {
  "kernelspec": {
   "display_name": "Python 3 (ipykernel)",
   "language": "python",
   "name": "python3"
  },
  "language_info": {
   "codemirror_mode": {
    "name": "ipython",
    "version": 3
   },
   "file_extension": ".py",
   "mimetype": "text/x-python",
   "name": "python",
   "nbconvert_exporter": "python",
   "pygments_lexer": "ipython3",
   "version": "3.12.3"
  }
 },
 "nbformat": 4,
 "nbformat_minor": 5
}
