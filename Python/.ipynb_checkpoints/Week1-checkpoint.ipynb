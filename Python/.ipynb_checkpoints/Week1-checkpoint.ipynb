{
 "cells": [
  {
   "cell_type": "code",
   "execution_count": 4,
   "id": "15412abc-8ab6-484a-beac-033a0b9e6916",
   "metadata": {},
   "outputs": [
    {
     "name": "stdout",
     "output_type": "stream",
     "text": [
      "Hello world\n"
     ]
    }
   ],
   "source": [
    "print(\"Hello world\")"
   ]
  },
  {
   "cell_type": "code",
   "execution_count": 5,
   "id": "401bdc45-55ad-4460-a152-41cba5d7e14e",
   "metadata": {},
   "outputs": [
    {
     "name": "stdout",
     "output_type": "stream",
     "text": [
      "4\n"
     ]
    }
   ],
   "source": [
    "print(2+2)"
   ]
  },
  {
   "cell_type": "code",
   "execution_count": 6,
   "id": "d4b04799-f279-4e91-b396-9da93d794a86",
   "metadata": {},
   "outputs": [
    {
     "name": "stdout",
     "output_type": "stream",
     "text": [
      "14.7\n"
     ]
    }
   ],
   "source": [
    "print(7.7+7)"
   ]
  },
  {
   "cell_type": "code",
   "execution_count": 9,
   "id": "0ff234bc-42d3-40c8-869c-6d8b16373401",
   "metadata": {},
   "outputs": [
    {
     "name": "stdout",
     "output_type": "stream",
     "text": [
      "<class 'int'>\n",
      "10\n"
     ]
    }
   ],
   "source": [
    "a=5\n",
    "print(type(a))\n",
    "print(a+5)"
   ]
  },
  {
   "cell_type": "code",
   "execution_count": 13,
   "id": "b185af95-4b90-4b1b-9e52-66c23a5a9a02",
   "metadata": {},
   "outputs": [
    {
     "name": "stdout",
     "output_type": "stream",
     "text": [
      "Abdul samad Chandio\n"
     ]
    }
   ],
   "source": [
    "x=\"Abdul samad\"\n",
    "y=\"Chandio\"\n",
    "print(x+\" \"+y)"
   ]
  },
  {
   "cell_type": "code",
   "execution_count": null,
   "id": "e5b7fce1-82af-48d4-b040-5065f74b6a09",
   "metadata": {},
   "outputs": [],
   "source": []
  }
 ],
 "metadata": {
  "kernelspec": {
   "display_name": "Python 3 (ipykernel)",
   "language": "python",
   "name": "python3"
  },
  "language_info": {
   "codemirror_mode": {
    "name": "ipython",
    "version": 3
   },
   "file_extension": ".py",
   "mimetype": "text/x-python",
   "name": "python",
   "nbconvert_exporter": "python",
   "pygments_lexer": "ipython3",
   "version": "3.12.3"
  }
 },
 "nbformat": 4,
 "nbformat_minor": 5
}
