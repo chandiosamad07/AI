{
 "cells": [
  {
   "cell_type": "code",
   "execution_count": 6,
   "id": "4a7b8b93-b73c-4faf-a717-1613375ea07e",
   "metadata": {},
   "outputs": [
    {
     "data": {
      "text/plain": [
       "'abc'"
      ]
     },
     "execution_count": 6,
     "metadata": {},
     "output_type": "execute_result"
    }
   ],
   "source": [
    "f = open('demofile.txt','r')\n",
    "f.read()"
   ]
  },
  {
   "cell_type": "code",
   "execution_count": 8,
   "id": "0c2ce245-8ceb-4b61-b9a5-57e0b14af274",
   "metadata": {},
   "outputs": [
    {
     "data": {
      "text/plain": [
       "'ab'"
      ]
     },
     "execution_count": 8,
     "metadata": {},
     "output_type": "execute_result"
    }
   ],
   "source": [
    "f = open('demofile.txt','r')\n",
    "f.read(2)"
   ]
  },
  {
   "cell_type": "code",
   "execution_count": 17,
   "id": "8c1dea66-e223-4ad4-8fc7-780f0ea4a0aa",
   "metadata": {},
   "outputs": [
    {
     "name": "stdout",
     "output_type": "stream",
     "text": [
      "abc\n",
      "\n",
      "this is text\n"
     ]
    }
   ],
   "source": [
    "f = open('demofile.txt','r')\n",
    "print(f.readline())\n",
    "print(f.readline())"
   ]
  },
  {
   "cell_type": "code",
   "execution_count": 18,
   "id": "e760ce26-ace9-4efa-af54-a10daaaf6f45",
   "metadata": {},
   "outputs": [
    {
     "name": "stdout",
     "output_type": "stream",
     "text": [
      "abc\n",
      "\n",
      "this is text\n"
     ]
    }
   ],
   "source": [
    "f = open(\"demofile.txt\", \"r\")\n",
    "for x in f:\n",
    "  print(x)"
   ]
  },
  {
   "cell_type": "code",
   "execution_count": 19,
   "id": "f9d3d654-0ca4-451d-bab2-7c372b1b1ced",
   "metadata": {},
   "outputs": [
    {
     "name": "stdout",
     "output_type": "stream",
     "text": [
      "abc\n",
      "\n",
      "this is text\n"
     ]
    }
   ],
   "source": [
    "f = open('demofile.txt','r')\n",
    "for x in f:\n",
    "    print(x)"
   ]
  },
  {
   "cell_type": "code",
   "execution_count": 20,
   "id": "8fc819d7-f7fa-4f9d-b868-25b09221669f",
   "metadata": {},
   "outputs": [
    {
     "name": "stdout",
     "output_type": "stream",
     "text": [
      "abc\n",
      "\n"
     ]
    }
   ],
   "source": [
    "f = open(\"demofile.txt\", \"r\")\n",
    "print(f.readline())\n",
    "f.close()"
   ]
  },
  {
   "cell_type": "code",
   "execution_count": 23,
   "id": "3fae2acd-1abf-4e46-9b52-944a89ca8642",
   "metadata": {},
   "outputs": [],
   "source": [
    "f = open('demofile.txt','a')\n",
    "f.write(\"This is new line\")\n",
    "f.close()\n"
   ]
  },
  {
   "cell_type": "code",
   "execution_count": 24,
   "id": "9ca86c29-6bb9-4af5-b41d-2f3d4e5ad8fa",
   "metadata": {},
   "outputs": [
    {
     "name": "stdout",
     "output_type": "stream",
     "text": [
      "abc\n",
      "this is textThis is new lineThis is new line\n"
     ]
    }
   ],
   "source": [
    "f = open('demofile.txt','r')\n",
    "print(f.read())"
   ]
  },
  {
   "cell_type": "code",
   "execution_count": 27,
   "id": "057fc0d5-4ffe-4cec-aa9a-11e98da8d1ff",
   "metadata": {},
   "outputs": [],
   "source": [
    "f = open('demofile1.txt','w')\n",
    "f.write(\"Woops! I have deleted the content!\")\n",
    "f.close()"
   ]
  },
  {
   "cell_type": "code",
   "execution_count": 28,
   "id": "4894b138-1582-4aa6-9c26-a9d9b704383b",
   "metadata": {},
   "outputs": [
    {
     "data": {
      "text/plain": [
       "'Woops! I have deleted the content!'"
      ]
     },
     "execution_count": 28,
     "metadata": {},
     "output_type": "execute_result"
    }
   ],
   "source": [
    "f = open('demofile1.txt','r')\n",
    "f.read()"
   ]
  },
  {
   "cell_type": "code",
   "execution_count": null,
   "id": "c94d7b0e-3f28-44bb-b4c2-76e798699d15",
   "metadata": {},
   "outputs": [],
   "source": []
  }
 ],
 "metadata": {
  "kernelspec": {
   "display_name": "Python 3 (ipykernel)",
   "language": "python",
   "name": "python3"
  },
  "language_info": {
   "codemirror_mode": {
    "name": "ipython",
    "version": 3
   },
   "file_extension": ".py",
   "mimetype": "text/x-python",
   "name": "python",
   "nbconvert_exporter": "python",
   "pygments_lexer": "ipython3",
   "version": "3.12.3"
  }
 },
 "nbformat": 4,
 "nbformat_minor": 5
}
