{
 "cells": [
  {
   "cell_type": "code",
   "execution_count": 1,
   "id": "e6b57207-6267-436b-94e9-0f8ef4744193",
   "metadata": {},
   "outputs": [
    {
     "name": "stdout",
     "output_type": "stream",
     "text": [
      "Requirement already satisfied: numpy in c:\\users\\abdul.samad\\appdata\\local\\programs\\python\\python312\\lib\\site-packages (2.0.0)\n",
      "Note: you may need to restart the kernel to use updated packages.\n"
     ]
    },
    {
     "name": "stderr",
     "output_type": "stream",
     "text": [
      "\n",
      "[notice] A new release of pip is available: 24.0 -> 24.2\n",
      "[notice] To update, run: python.exe -m pip install --upgrade pip\n"
     ]
    }
   ],
   "source": [
    "pip install numpy "
   ]
  },
  {
   "cell_type": "code",
   "execution_count": 4,
   "id": "f4916e0a-a6be-46fe-906f-963aa67d6413",
   "metadata": {},
   "outputs": [],
   "source": [
    "import numpy as np"
   ]
  },
  {
   "cell_type": "code",
   "execution_count": null,
   "id": "f8373048-524b-40e2-9207-b0c2fc412822",
   "metadata": {},
   "outputs": [],
   "source": [
    "#The Basic Numpy"
   ]
  },
  {
   "cell_type": "code",
   "execution_count": 56,
   "id": "5ab70b0d-6712-4e66-a578-1a04104338d8",
   "metadata": {},
   "outputs": [
    {
     "name": "stdout",
     "output_type": "stream",
     "text": [
      "[1, 2, 3, 4, 5, 6]\n"
     ]
    }
   ],
   "source": [
    "list = [1,2,3,4,5,6]\n",
    "print(list)"
   ]
  },
  {
   "cell_type": "code",
   "execution_count": 54,
   "id": "f36c4965-f19f-41e2-96e3-df8b71266051",
   "metadata": {},
   "outputs": [
    {
     "name": "stdout",
     "output_type": "stream",
     "text": [
      "[1 2 3 4 5]\n",
      "[[ 1  2  3  4  5]\n",
      " [ 6  7  8  9 10]]\n"
     ]
    }
   ],
   "source": [
    "a=np.array([1,2,3,4,5] , dtype='int16')\n",
    "b=np.array([[1,2,3,4,5],[6,7,8,9,10]] , dtype='int32')\n",
    "print(a)\n",
    "print(b)"
   ]
  },
  {
   "cell_type": "code",
   "execution_count": 55,
   "id": "841954e3-57f6-48f8-a9d5-2c79dfdc7ed1",
   "metadata": {},
   "outputs": [
    {
     "name": "stdout",
     "output_type": "stream",
     "text": [
      "1\n",
      "2\n",
      "(5,)\n",
      "(2, 5)\n",
      "int16\n",
      "int32\n"
     ]
    }
   ],
   "source": [
    "print(a.ndim)\n",
    "print(b.ndim)\n",
    "print(a.shape)\n",
    "print(b.shape)\n",
    "print(a.dtype)\n",
    "print(b.dtype)"
   ]
  },
  {
   "cell_type": "code",
   "execution_count": 13,
   "id": "a625b566-e961-457d-9760-0d199c26f705",
   "metadata": {},
   "outputs": [
    {
     "name": "stdout",
     "output_type": "stream",
     "text": [
      "1D Array\n",
      "[1, 2, 3, 4, 5, 6]\n"
     ]
    }
   ],
   "source": [
    "print(\"1D Array\")\n",
    "list = [1,2,3,4,5,6]\n",
    "print(list)"
   ]
  },
  {
   "cell_type": "code",
   "execution_count": 14,
   "id": "a80f6dc9-5ac1-4509-b3b0-2bb6af1cfd90",
   "metadata": {},
   "outputs": [
    {
     "name": "stdout",
     "output_type": "stream",
     "text": [
      "[5 4 3 2 1]\n"
     ]
    }
   ],
   "source": [
    "a=np.array([5,4,3,2,1])\n",
    "print(a)"
   ]
  },
  {
   "cell_type": "code",
   "execution_count": 15,
   "id": "2f42c814-3df3-4a6f-8234-0e59c2afaf3c",
   "metadata": {},
   "outputs": [
    {
     "name": "stdout",
     "output_type": "stream",
     "text": [
      "2D Array\n",
      "[[1 2 3 4 5]\n",
      " [5 4 3 2 1]]\n"
     ]
    }
   ],
   "source": [
    "print(\"2D Array\")\n",
    "b=np.array([[1,2,3,4,5],[5,4,3,2,1]])\n",
    "print(b)"
   ]
  },
  {
   "cell_type": "code",
   "execution_count": null,
   "id": "cbf45ed5-0938-463c-a3f0-22e4c0d11474",
   "metadata": {},
   "outputs": [],
   "source": [
    "#Accessing and changing specific elements , row and columns"
   ]
  },
  {
   "cell_type": "code",
   "execution_count": 90,
   "id": "ae86d2c7-35ac-4387-863c-a45964cab7f5",
   "metadata": {},
   "outputs": [
    {
     "name": "stdout",
     "output_type": "stream",
     "text": [
      "3\n"
     ]
    }
   ],
   "source": [
    "#Geting specific Element\n",
    "a=np.array([[1,2,3,4,5,6],[7,8,9,10,11,12]])\n",
    "# print(a)\n",
    "print(a[0,2])"
   ]
  },
  {
   "cell_type": "code",
   "execution_count": 96,
   "id": "015bc98b-2a22-4006-bcbe-619dd2805751",
   "metadata": {},
   "outputs": [
    {
     "name": "stdout",
     "output_type": "stream",
     "text": [
      "[[1 2 3 4 5 6]]\n",
      "[[ 7  8  9 10 11 12]]\n",
      "[ 7  8  9 10 11 12]\n"
     ]
    }
   ],
   "source": [
    "#Geting specific Row\n",
    "print(a[0:1])\n",
    "print(a[1:])\n",
    "print(a[1,:])"
   ]
  },
  {
   "cell_type": "code",
   "execution_count": 95,
   "id": "e8dbe1d7-835b-4495-83e1-889abb770a72",
   "metadata": {},
   "outputs": [
    {
     "name": "stdout",
     "output_type": "stream",
     "text": [
      "[3 9]\n",
      "[ 4 10]\n"
     ]
    }
   ],
   "source": [
    "#Geting specific Columns\n",
    "print(a[:,2])\n",
    "print(a[:,3])"
   ]
  },
  {
   "cell_type": "code",
   "execution_count": 103,
   "id": "88144845-48f8-4e7c-817f-cc7487afeea4",
   "metadata": {},
   "outputs": [
    {
     "name": "stdout",
     "output_type": "stream",
     "text": [
      "[ 8 11]\n",
      "[2 5]\n"
     ]
    }
   ],
   "source": [
    "#Geting specific littile more fancy\n",
    "print(a[1, 1:6:3])\n",
    "print(a[0, 1:6:3])"
   ]
  },
  {
   "cell_type": "code",
   "execution_count": 104,
   "id": "6c7c6619-6ede-40c9-843b-3a872b933e11",
   "metadata": {},
   "outputs": [],
   "source": [
    "#Initializing Differnt type of Array"
   ]
  },
  {
   "cell_type": "code",
   "execution_count": 113,
   "id": "c9ce9c33-c482-448a-849a-93e9a9c870d5",
   "metadata": {},
   "outputs": [
    {
     "name": "stdout",
     "output_type": "stream",
     "text": [
      "1 x 2\n"
     ]
    }
   ],
   "source": [
    "print(\"1 x 2\")\n",
    "np.zeros((1,2))"
   ]
  },
  {
   "cell_type": "code",
   "execution_count": 16,
   "id": "62134625-6c62-40ae-836a-1bc414e5c3fa",
   "metadata": {},
   "outputs": [
    {
     "data": {
      "text/plain": [
       "array([[1, 5],\n",
       "       [2, 4],\n",
       "       [3, 3],\n",
       "       [4, 2],\n",
       "       [5, 1]])"
      ]
     },
     "execution_count": 16,
     "metadata": {},
     "output_type": "execute_result"
    }
   ],
   "source": [
    "b.transpose()"
   ]
  },
  {
   "cell_type": "code",
   "execution_count": 17,
   "id": "e95d8ab5-6e70-4e52-968e-fa96a2759502",
   "metadata": {},
   "outputs": [
    {
     "name": "stdout",
     "output_type": "stream",
     "text": [
      "3D Array\n",
      "[[1 2 3 4 5]\n",
      " [5 4 3 2 1]\n",
      " [5 4 3 2 1]]\n"
     ]
    }
   ],
   "source": [
    "print(\"3D Array\")\n",
    "b=np.array([[1,2,3,4,5],[5,4,3,2,1],[5,4,3,2,1]])\n",
    "print(b)"
   ]
  },
  {
   "cell_type": "code",
   "execution_count": 23,
   "id": "3a7d209e-167b-4477-b2c6-0c1f4fffaf84",
   "metadata": {},
   "outputs": [
    {
     "data": {
      "text/plain": [
       "array([[23925768161198147, 32370111954616435, 28147918584217692,\n",
       "        32369819897299061],\n",
       "       [28147914290036833, 31525648366174300, 31244169099083897,\n",
       "        32088628387381358],\n",
       "       [30399748463001711, 28429402150731877, 30399800002281574,\n",
       "        29555319237247092],\n",
       "       [32088624093986931, 31807166292557945, 28429470870863980,\n",
       "        30399714104377389]])"
      ]
     },
     "execution_count": 23,
     "metadata": {},
     "output_type": "execute_result"
    }
   ],
   "source": [
    "np.empty((4,4),dtype = int)"
   ]
  },
  {
   "cell_type": "code",
   "execution_count": 24,
   "id": "8a1c7eff-43b6-4f6a-90c5-fdaab4af9e2e",
   "metadata": {},
   "outputs": [
    {
     "data": {
      "text/plain": [
       "array([1., 1., 1., 1., 1., 1.])"
      ]
     },
     "execution_count": 24,
     "metadata": {},
     "output_type": "execute_result"
    }
   ],
   "source": [
    "np.ones(6)"
   ]
  },
  {
   "cell_type": "code",
   "execution_count": 27,
   "id": "aa840192-a32e-4051-9fb0-a6db7b6370e9",
   "metadata": {},
   "outputs": [
    {
     "data": {
      "text/plain": [
       "array([[1., 1., 1., 1.],\n",
       "       [1., 1., 1., 1.],\n",
       "       [1., 1., 1., 1.]])"
      ]
     },
     "execution_count": 27,
     "metadata": {},
     "output_type": "execute_result"
    }
   ],
   "source": [
    "np.ones((3,4))"
   ]
  },
  {
   "cell_type": "code",
   "execution_count": 28,
   "id": "da3461ec-5b01-4110-aa14-4059f414258e",
   "metadata": {},
   "outputs": [
    {
     "data": {
      "text/plain": [
       "array([[1., 1., 1., 1.],\n",
       "       [1., 1., 1., 1.],\n",
       "       [1., 1., 1., 1.]])"
      ]
     },
     "execution_count": 28,
     "metadata": {},
     "output_type": "execute_result"
    }
   ],
   "source": [
    "np.ones((3,4) ,dtype = float)"
   ]
  },
  {
   "cell_type": "code",
   "execution_count": 29,
   "id": "577e2fe3-cac4-4b29-9c87-82b220577bbe",
   "metadata": {},
   "outputs": [
    {
     "data": {
      "text/plain": [
       "array([[0., 0., 0., 0.],\n",
       "       [0., 0., 0., 0.],\n",
       "       [0., 0., 0., 0.]])"
      ]
     },
     "execution_count": 29,
     "metadata": {},
     "output_type": "execute_result"
    }
   ],
   "source": [
    "np.zeros((3,4))"
   ]
  },
  {
   "cell_type": "code",
   "execution_count": 30,
   "id": "de67e7c9-8240-4764-a007-94a13dc67483",
   "metadata": {},
   "outputs": [
    {
     "data": {
      "text/plain": [
       "array([[0., 0., 0., 0.],\n",
       "       [0., 0., 0., 0.],\n",
       "       [0., 0., 0., 0.]])"
      ]
     },
     "execution_count": 30,
     "metadata": {},
     "output_type": "execute_result"
    }
   ],
   "source": [
    "np.zeros((3,4),dtype=float)"
   ]
  },
  {
   "cell_type": "code",
   "execution_count": 31,
   "id": "b94e1d0c-10dc-491d-80fe-9ae4b34eb1e9",
   "metadata": {},
   "outputs": [
    {
     "name": "stdout",
     "output_type": "stream",
     "text": [
      "[ 1  2  3  4  5  6  7  8  9 10 11 12 13 14 15 16 17 18 19]\n"
     ]
    }
   ],
   "source": [
    "a=np.arange(1,20)\n",
    "print(a)"
   ]
  },
  {
   "cell_type": "code",
   "execution_count": 32,
   "id": "3832d3fa-05e7-45ea-a2d9-1d0d55d312be",
   "metadata": {},
   "outputs": [
    {
     "name": "stdout",
     "output_type": "stream",
     "text": [
      "[ 1  3  5  7  9 11 13 15 17 19]\n"
     ]
    }
   ],
   "source": [
    "a=np.arange(1,20,2)\n",
    "print(a)"
   ]
  },
  {
   "cell_type": "code",
   "execution_count": 34,
   "id": "6acaafae-3dce-4afe-83aa-6fbd4789b9bb",
   "metadata": {},
   "outputs": [
    {
     "name": "stdout",
     "output_type": "stream",
     "text": [
      "[ 2  4  6  8 10 12 14 16 18]\n"
     ]
    }
   ],
   "source": [
    "a=np.arange(2,20,2)\n",
    "print(a)"
   ]
  },
  {
   "cell_type": "code",
   "execution_count": 35,
   "id": "d6fa61a6-27b3-4573-9353-63a457d8c7a6",
   "metadata": {},
   "outputs": [
    {
     "name": "stdout",
     "output_type": "stream",
     "text": [
      "[[ 2  4  6]\n",
      " [ 8 10 12]\n",
      " [14 16 18]]\n"
     ]
    }
   ],
   "source": [
    "a=a.reshape((3,3))\n",
    "print(a)"
   ]
  },
  {
   "cell_type": "code",
   "execution_count": 36,
   "id": "986392ee-cf88-4220-bca9-d2a109227fac",
   "metadata": {},
   "outputs": [
    {
     "name": "stdout",
     "output_type": "stream",
     "text": [
      "[ 2  4  6  8 10 12 14 16 18]\n"
     ]
    }
   ],
   "source": [
    "b=a.flatten()\n",
    "print(b)"
   ]
  },
  {
   "cell_type": "code",
   "execution_count": null,
   "id": "ef7be27c-2019-4e73-a52c-0de66f4af25d",
   "metadata": {},
   "outputs": [],
   "source": []
  },
  {
   "cell_type": "code",
   "execution_count": 37,
   "id": "0a3117b3-78e7-42c2-a237-0cac2987e72b",
   "metadata": {},
   "outputs": [
    {
     "name": "stdout",
     "output_type": "stream",
     "text": [
      "[ 2  4  6  8 10 12 14 16 18]\n"
     ]
    }
   ],
   "source": [
    "c=a.ravel()\n",
    "print(c)"
   ]
  }
 ],
 "metadata": {
  "kernelspec": {
   "display_name": "Python 3 (ipykernel)",
   "language": "python",
   "name": "python3"
  },
  "language_info": {
   "codemirror_mode": {
    "name": "ipython",
    "version": 3
   },
   "file_extension": ".py",
   "mimetype": "text/x-python",
   "name": "python",
   "nbconvert_exporter": "python",
   "pygments_lexer": "ipython3",
   "version": "3.12.3"
  }
 },
 "nbformat": 4,
 "nbformat_minor": 5
}
