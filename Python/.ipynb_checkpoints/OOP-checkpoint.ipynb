{
 "cells": [
  {
   "cell_type": "markdown",
   "id": "b9d59ceb-ec90-4332-b3b7-549c01ffdca8",
   "metadata": {},
   "source": [
    "Python Object-Oriented Programming"
   ]
  },
  {
   "cell_type": "code",
   "execution_count": 19,
   "id": "d7e4e76a-9fc6-49a6-825b-734aee7a9756",
   "metadata": {},
   "outputs": [
    {
     "name": "stdout",
     "output_type": "stream",
     "text": [
      "Buddy says woof\n"
     ]
    }
   ],
   "source": [
    "class Dog:\n",
    "    def __init__(self, name, age):\n",
    "        self.name = name\n",
    "        self.age = age\n",
    "   \n",
    "    def bark(self):\n",
    "        return f\"{self.name} says woof\"\n",
    "\n",
    "\n",
    "my_dog = Dog(\"Buddy\", 5)\n",
    "print(my_dog.bark()) "
   ]
  },
  {
   "cell_type": "code",
   "execution_count": 21,
   "id": "023161f4-5c04-43e8-927e-0da5268fbe3f",
   "metadata": {},
   "outputs": [
    {
     "name": "stdout",
     "output_type": "stream",
     "text": [
      "The RedToyota engine is now Running\n"
     ]
    }
   ],
   "source": [
    "class Car:\n",
    "    def __init__(self, brand, color):\n",
    "        self.brand = brand\n",
    "        self.color = color\n",
    "    def start_engine(self):\n",
    "        return f\"The {self.color}{self.brand} engine is now Running\"\n",
    "\n",
    "car1 = Car('Toyota','Red')\n",
    "print(car1.start_engine())"
   ]
  },
  {
   "cell_type": "markdown",
   "id": "6994c039-219a-4f4b-af27-58ba8d677cae",
   "metadata": {},
   "source": [
    "Encapsulation"
   ]
  },
  {
   "cell_type": "code",
   "execution_count": 25,
   "id": "41275cc1-17a9-433d-a6e5-c6ab9ae86312",
   "metadata": {},
   "outputs": [
    {
     "name": "stdout",
     "output_type": "stream",
     "text": [
      "35000\n"
     ]
    }
   ],
   "source": [
    "class Account:\n",
    "    def __init__(self, owner,balance=0):\n",
    "        self.owner = owner\n",
    "        self.__balance = balance\n",
    "    def deposit(self,amount):\n",
    "        self.__balance+=amount\n",
    "        return self.__balance\n",
    "    def get_balance(self):\n",
    "        return self.__balance\n",
    "\n",
    "acc = Account(\"samad\",10000)\n",
    "print(acc.deposit(25000))\n",
    "# print(acc.get_balance())\n"
   ]
  },
  {
   "cell_type": "markdown",
   "id": "06d806e4-c07c-4c7e-9ebb-ab404abbbb68",
   "metadata": {},
   "source": [
    "Inheritance"
   ]
  },
  {
   "cell_type": "code",
   "execution_count": 27,
   "id": "9e56ff6c-4a8c-4f07-aeb6-5a4ae80a7ca0",
   "metadata": {},
   "outputs": [],
   "source": [
    "class Animal:\n",
    "    def __init__(self,name):\n",
    "        self.name = name\n",
    "    def speak(self):\n",
    "        return \"Some sound\""
   ]
  },
  {
   "cell_type": "code",
   "execution_count": 29,
   "id": "d3d3f7f7-ba03-4ada-87b2-82161593b102",
   "metadata": {},
   "outputs": [
    {
     "name": "stdout",
     "output_type": "stream",
     "text": [
      "Dog says woof\n"
     ]
    }
   ],
   "source": [
    "class Dog(Animal):\n",
    "    def speak(self):\n",
    "        return f\"{self.name} says woof\"\n",
    "my_dog = Dog(\"Dog\")\n",
    "print(my_dog.speak()) "
   ]
  },
  {
   "cell_type": "markdown",
   "id": "0a615cd3-ff1b-40d0-bca0-f7b885210b47",
   "metadata": {},
   "source": [
    "Polymorphism"
   ]
  },
  {
   "cell_type": "code",
   "execution_count": 31,
   "id": "8fc12308-6929-4ee2-bb87-da43d2ca5bdd",
   "metadata": {},
   "outputs": [
    {
     "name": "stdout",
     "output_type": "stream",
     "text": [
      "Buddy says woof\n",
      "Whiskers says meow!\n"
     ]
    }
   ],
   "source": [
    "class Cat(Animal):\n",
    "    def speak(self):\n",
    "        return f\"{self.name} says meow!\"\n",
    "\n",
    "animals = [Dog(\"Buddy\"),Cat('Whiskers')]\n",
    "for animal in animals:\n",
    "    print(animal.speak()) "
   ]
  },
  {
   "cell_type": "code",
   "execution_count": null,
   "id": "1d28734f-fe38-472c-be3a-faa7fea99a9d",
   "metadata": {},
   "outputs": [],
   "source": []
  }
 ],
 "metadata": {
  "kernelspec": {
   "display_name": "Python 3 (ipykernel)",
   "language": "python",
   "name": "python3"
  },
  "language_info": {
   "codemirror_mode": {
    "name": "ipython",
    "version": 3
   },
   "file_extension": ".py",
   "mimetype": "text/x-python",
   "name": "python",
   "nbconvert_exporter": "python",
   "pygments_lexer": "ipython3",
   "version": "3.12.3"
  }
 },
 "nbformat": 4,
 "nbformat_minor": 5
}
