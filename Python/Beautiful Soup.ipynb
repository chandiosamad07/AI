{
 "cells": [
  {
   "cell_type": "code",
   "execution_count": 1,
   "id": "c0f74d02-5f1b-4632-b385-95f9f98f11ff",
   "metadata": {},
   "outputs": [
    {
     "name": "stdout",
     "output_type": "stream",
     "text": [
      "Requirement already satisfied: beautifulsoup4 in c:\\users\\abdul.samad\\appdata\\local\\programs\\python\\python313\\lib\\site-packages (4.12.3)\n",
      "Requirement already satisfied: soupsieve>1.2 in c:\\users\\abdul.samad\\appdata\\local\\programs\\python\\python313\\lib\\site-packages (from beautifulsoup4) (2.6)\n",
      "Note: you may need to restart the kernel to use updated packages.\n"
     ]
    }
   ],
   "source": [
    "pip install beautifulsoup4"
   ]
  },
  {
   "cell_type": "code",
   "execution_count": 7,
   "id": "4f4aa2e0-eec7-4ade-bbac-4eb27f6f4d70",
   "metadata": {},
   "outputs": [],
   "source": [
    "from bs4 import BeautifulSoup\n",
    "import requests"
   ]
  },
  {
   "cell_type": "code",
   "execution_count": 3,
   "id": "18f2ca19-4dc5-4e69-8fc3-0e89cf35ab04",
   "metadata": {},
   "outputs": [
    {
     "name": "stdout",
     "output_type": "stream",
     "text": [
      "Requirement already satisfied: requests in c:\\users\\abdul.samad\\appdata\\local\\programs\\python\\python313\\lib\\site-packages (2.32.3)\n",
      "Requirement already satisfied: charset-normalizer<4,>=2 in c:\\users\\abdul.samad\\appdata\\local\\programs\\python\\python313\\lib\\site-packages (from requests) (3.4.0)\n",
      "Requirement already satisfied: idna<4,>=2.5 in c:\\users\\abdul.samad\\appdata\\local\\programs\\python\\python313\\lib\\site-packages (from requests) (3.10)\n",
      "Requirement already satisfied: urllib3<3,>=1.21.1 in c:\\users\\abdul.samad\\appdata\\local\\programs\\python\\python313\\lib\\site-packages (from requests) (2.2.3)\n",
      "Requirement already satisfied: certifi>=2017.4.17 in c:\\users\\abdul.samad\\appdata\\local\\programs\\python\\python313\\lib\\site-packages (from requests) (2024.8.30)\n",
      "Note: you may need to restart the kernel to use updated packages.\n"
     ]
    }
   ],
   "source": [
    "pip install requests"
   ]
  },
  {
   "cell_type": "code",
   "execution_count": 9,
   "id": "d22e6f09-c32b-49d8-94a4-95a2abaec96c",
   "metadata": {},
   "outputs": [],
   "source": [
    "url ='https://www.pakwheels.com/'"
   ]
  },
  {
   "cell_type": "code",
   "execution_count": 10,
   "id": "9e446fc0-96f9-4ac3-a3d2-50cc72935db4",
   "metadata": {},
   "outputs": [],
   "source": [
    "req = requests.get(url)"
   ]
  },
  {
   "cell_type": "code",
   "execution_count": 11,
   "id": "42579311-7c7a-4c2e-bc42-f94f6dc096b6",
   "metadata": {},
   "outputs": [
    {
     "data": {
      "text/plain": [
       "200"
      ]
     },
     "execution_count": 11,
     "metadata": {},
     "output_type": "execute_result"
    }
   ],
   "source": [
    "req.status_code"
   ]
  },
  {
   "cell_type": "code",
   "execution_count": 17,
   "id": "8f9efe86-8328-4cab-8e5c-a96e5b641c67",
   "metadata": {},
   "outputs": [],
   "source": [
    "# print(req.content)"
   ]
  },
  {
   "cell_type": "code",
   "execution_count": 23,
   "id": "8976cfdb-233d-4d19-96cb-276dfb530fe7",
   "metadata": {},
   "outputs": [],
   "source": [
    "soup = BeautifulSoup(req.text,'html.parser')"
   ]
  },
  {
   "cell_type": "code",
   "execution_count": 26,
   "id": "fccf9ce0-5cfd-4755-84fd-1a370d145a71",
   "metadata": {},
   "outputs": [
    {
     "data": {
      "text/plain": [
       "<title>Buy &amp; Sell Cars, Bikes &amp; Autoparts - Find Car Prices, News &amp; Reviews | PakWheels</title>"
      ]
     },
     "execution_count": 26,
     "metadata": {},
     "output_type": "execute_result"
    }
   ],
   "source": [
    "# print(soup)"
   ]
  },
  {
   "cell_type": "code",
   "execution_count": 27,
   "id": "ed6dd2cf-cc15-4903-b9c4-552928d10101",
   "metadata": {},
   "outputs": [
    {
     "data": {
      "text/plain": [
       "<title>Buy &amp; Sell Cars, Bikes &amp; Autoparts - Find Car Prices, News &amp; Reviews | PakWheels</title>"
      ]
     },
     "execution_count": 27,
     "metadata": {},
     "output_type": "execute_result"
    }
   ],
   "source": [
    "soup.title"
   ]
  },
  {
   "cell_type": "code",
   "execution_count": 28,
   "id": "39c4e78d-fe46-463c-9940-1a2f2e78a37c",
   "metadata": {},
   "outputs": [
    {
     "data": {
      "text/plain": [
       "<a class=\"pull-left btn-mini-app\" data-target=\"#download_apps\" data-toggle=\"modal\" href=\"#\" onclick=\"trackEvents('User', 'FromHeader - AppInstallClicked', 'Main - Index');\"><i class=\"fa fa-mobile generic-red\"></i> Download App via SMS</a>"
      ]
     },
     "execution_count": 28,
     "metadata": {},
     "output_type": "execute_result"
    }
   ],
   "source": [
    "soup.a"
   ]
  },
  {
   "cell_type": "code",
   "execution_count": 34,
   "id": "06486d2d-8bd5-4c40-be7b-850fb83d8741",
   "metadata": {},
   "outputs": [],
   "source": [
    "# soup.div"
   ]
  },
  {
   "cell_type": "code",
   "execution_count": 36,
   "id": "d3705862-c475-43de-8287-cab5f562a1e2",
   "metadata": {},
   "outputs": [
    {
     "data": {
      "text/plain": [
       "<a class=\"pull-left btn-mini-app\" data-target=\"#download_apps\" data-toggle=\"modal\" href=\"#\" onclick=\"trackEvents('User', 'FromHeader - AppInstallClicked', 'Main - Index');\"><i class=\"fa fa-mobile generic-red\"></i> Download App via SMS</a>"
      ]
     },
     "execution_count": 36,
     "metadata": {},
     "output_type": "execute_result"
    }
   ],
   "source": [
    "tag = soup.a\n",
    "tag"
   ]
  },
  {
   "cell_type": "code",
   "execution_count": 39,
   "id": "a890bae3-5a37-4d49-8752-b7734c7ddef8",
   "metadata": {},
   "outputs": [
    {
     "data": {
      "text/plain": [
       "{'class': ['header', 'clearfix', 'header--fixed', 'home-header'],\n",
       " 'id': 'header'}"
      ]
     },
     "execution_count": 39,
     "metadata": {},
     "output_type": "execute_result"
    }
   ],
   "source": [
    "tag = soup.div.attrs\n",
    "tag"
   ]
  },
  {
   "cell_type": "code",
   "execution_count": 40,
   "id": "ddfe7652-37aa-4add-a046-ddacd204aac4",
   "metadata": {},
   "outputs": [
    {
     "data": {
      "text/plain": [
       "['header', 'clearfix', 'header--fixed', 'home-header']"
      ]
     },
     "execution_count": 40,
     "metadata": {},
     "output_type": "execute_result"
    }
   ],
   "source": [
    "tag['class']"
   ]
  },
  {
   "cell_type": "code",
   "execution_count": null,
   "id": "cabc32e3-6093-4122-8824-2d3dc46e2de3",
   "metadata": {},
   "outputs": [],
   "source": []
  }
 ],
 "metadata": {
  "kernelspec": {
   "display_name": "Python 3 (ipykernel)",
   "language": "python",
   "name": "python3"
  },
  "language_info": {
   "codemirror_mode": {
    "name": "ipython",
    "version": 3
   },
   "file_extension": ".py",
   "mimetype": "text/x-python",
   "name": "python",
   "nbconvert_exporter": "python",
   "pygments_lexer": "ipython3",
   "version": "3.13.0"
  }
 },
 "nbformat": 4,
 "nbformat_minor": 5
}
