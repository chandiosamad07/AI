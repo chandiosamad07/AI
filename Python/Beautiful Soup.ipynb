{
 "cells": [
  {
   "cell_type": "code",
   "execution_count": 1,
   "id": "c0f74d02-5f1b-4632-b385-95f9f98f11ff",
   "metadata": {},
   "outputs": [
    {
     "name": "stdout",
     "output_type": "stream",
     "text": [
      "Requirement already satisfied: beautifulsoup4 in c:\\users\\abdul.samad\\appdata\\local\\programs\\python\\python312\\lib\\site-packages (4.12.3)\n",
      "Requirement already satisfied: soupsieve>1.2 in c:\\users\\abdul.samad\\appdata\\local\\programs\\python\\python312\\lib\\site-packages (from beautifulsoup4) (2.5)\n",
      "Note: you may need to restart the kernel to use updated packages.\n"
     ]
    },
    {
     "name": "stderr",
     "output_type": "stream",
     "text": [
      "\n",
      "[notice] A new release of pip is available: 24.2 -> 24.3.1\n",
      "[notice] To update, run: python.exe -m pip install --upgrade pip\n"
     ]
    }
   ],
   "source": [
    "pip install beautifulsoup4"
   ]
  },
  {
   "cell_type": "code",
   "execution_count": 2,
   "id": "4f4aa2e0-eec7-4ade-bbac-4eb27f6f4d70",
   "metadata": {},
   "outputs": [],
   "source": [
    "from bs4 import BeautifulSoup\n",
    "import requests\n",
    "import re\n",
    "import pandas as pd"
   ]
  },
  {
   "cell_type": "code",
   "execution_count": 3,
   "id": "18f2ca19-4dc5-4e69-8fc3-0e89cf35ab04",
   "metadata": {},
   "outputs": [
    {
     "name": "stdout",
     "output_type": "stream",
     "text": [
      "Requirement already satisfied: requests in c:\\users\\abdul.samad\\appdata\\local\\programs\\python\\python312\\lib\\site-packages (2.32.3)\n",
      "Requirement already satisfied: charset-normalizer<4,>=2 in c:\\users\\abdul.samad\\appdata\\local\\programs\\python\\python312\\lib\\site-packages (from requests) (3.3.2)\n",
      "Requirement already satisfied: idna<4,>=2.5 in c:\\users\\abdul.samad\\appdata\\local\\programs\\python\\python312\\lib\\site-packages (from requests) (3.7)\n",
      "Requirement already satisfied: urllib3<3,>=1.21.1 in c:\\users\\abdul.samad\\appdata\\local\\programs\\python\\python312\\lib\\site-packages (from requests) (1.26.20)\n",
      "Requirement already satisfied: certifi>=2017.4.17 in c:\\users\\abdul.samad\\appdata\\local\\programs\\python\\python312\\lib\\site-packages (from requests) (2024.6.2)\n",
      "Note: you may need to restart the kernel to use updated packages.\n"
     ]
    },
    {
     "name": "stderr",
     "output_type": "stream",
     "text": [
      "\n",
      "[notice] A new release of pip is available: 24.2 -> 24.3.1\n",
      "[notice] To update, run: python.exe -m pip install --upgrade pip\n"
     ]
    }
   ],
   "source": [
    "pip install requests"
   ]
  },
  {
   "cell_type": "code",
   "execution_count": 4,
   "id": "d22e6f09-c32b-49d8-94a4-95a2abaec96c",
   "metadata": {},
   "outputs": [],
   "source": [
    "url ='https://www.pakwheels.com/'"
   ]
  },
  {
   "cell_type": "code",
   "execution_count": 5,
   "id": "9e446fc0-96f9-4ac3-a3d2-50cc72935db4",
   "metadata": {},
   "outputs": [],
   "source": [
    "req = requests.get(url)"
   ]
  },
  {
   "cell_type": "code",
   "execution_count": 6,
   "id": "42579311-7c7a-4c2e-bc42-f94f6dc096b6",
   "metadata": {},
   "outputs": [
    {
     "data": {
      "text/plain": [
       "200"
      ]
     },
     "execution_count": 6,
     "metadata": {},
     "output_type": "execute_result"
    }
   ],
   "source": [
    "req.status_code"
   ]
  },
  {
   "cell_type": "code",
   "execution_count": 7,
   "id": "8f9efe86-8328-4cab-8e5c-a96e5b641c67",
   "metadata": {},
   "outputs": [],
   "source": [
    "# print(req.content)"
   ]
  },
  {
   "cell_type": "code",
   "execution_count": 8,
   "id": "8976cfdb-233d-4d19-96cb-276dfb530fe7",
   "metadata": {},
   "outputs": [],
   "source": [
    "soup = BeautifulSoup(req.text,'html.parser')"
   ]
  },
  {
   "cell_type": "code",
   "execution_count": 9,
   "id": "fccf9ce0-5cfd-4755-84fd-1a370d145a71",
   "metadata": {},
   "outputs": [],
   "source": [
    "# print(soup)"
   ]
  },
  {
   "cell_type": "code",
   "execution_count": 10,
   "id": "ed6dd2cf-cc15-4903-b9c4-552928d10101",
   "metadata": {},
   "outputs": [
    {
     "data": {
      "text/plain": [
       "<title>Buy &amp; Sell Cars, Bikes &amp; Autoparts - Find Car Prices, News &amp; Reviews | PakWheels</title>"
      ]
     },
     "execution_count": 10,
     "metadata": {},
     "output_type": "execute_result"
    }
   ],
   "source": [
    "soup.title"
   ]
  },
  {
   "cell_type": "code",
   "execution_count": 11,
   "id": "39c4e78d-fe46-463c-9940-1a2f2e78a37c",
   "metadata": {},
   "outputs": [
    {
     "data": {
      "text/plain": [
       "<a class=\"pull-left btn-mini-app\" data-target=\"#download_apps\" data-toggle=\"modal\" href=\"#\" onclick=\"trackEvents('User', 'FromHeader - AppInstallClicked', 'Main - Index');\"><i class=\"fa fa-mobile generic-red\"></i> Download App via SMS</a>"
      ]
     },
     "execution_count": 11,
     "metadata": {},
     "output_type": "execute_result"
    }
   ],
   "source": [
    "soup.a"
   ]
  },
  {
   "cell_type": "code",
   "execution_count": 12,
   "id": "06486d2d-8bd5-4c40-be7b-850fb83d8741",
   "metadata": {},
   "outputs": [],
   "source": [
    "# soup.div"
   ]
  },
  {
   "cell_type": "code",
   "execution_count": 13,
   "id": "d3705862-c475-43de-8287-cab5f562a1e2",
   "metadata": {},
   "outputs": [
    {
     "data": {
      "text/plain": [
       "<a class=\"pull-left btn-mini-app\" data-target=\"#download_apps\" data-toggle=\"modal\" href=\"#\" onclick=\"trackEvents('User', 'FromHeader - AppInstallClicked', 'Main - Index');\"><i class=\"fa fa-mobile generic-red\"></i> Download App via SMS</a>"
      ]
     },
     "execution_count": 13,
     "metadata": {},
     "output_type": "execute_result"
    }
   ],
   "source": [
    "tag = soup.a\n",
    "tag"
   ]
  },
  {
   "cell_type": "code",
   "execution_count": 14,
   "id": "a890bae3-5a37-4d49-8752-b7734c7ddef8",
   "metadata": {},
   "outputs": [
    {
     "data": {
      "text/plain": [
       "{'class': ['header', 'clearfix', 'header--fixed', 'home-header'],\n",
       " 'id': 'header'}"
      ]
     },
     "execution_count": 14,
     "metadata": {},
     "output_type": "execute_result"
    }
   ],
   "source": [
    "tag = soup.div.attrs\n",
    "tag"
   ]
  },
  {
   "cell_type": "code",
   "execution_count": 15,
   "id": "ddfe7652-37aa-4add-a046-ddacd204aac4",
   "metadata": {},
   "outputs": [
    {
     "data": {
      "text/plain": [
       "['header', 'clearfix', 'header--fixed', 'home-header']"
      ]
     },
     "execution_count": 15,
     "metadata": {},
     "output_type": "execute_result"
    }
   ],
   "source": [
    "tag['class']"
   ]
  },
  {
   "cell_type": "code",
   "execution_count": 16,
   "id": "cabc32e3-6093-4122-8824-2d3dc46e2de3",
   "metadata": {},
   "outputs": [
    {
     "data": {
      "text/plain": [
       "<p>Search from over 110k options</p>"
      ]
     },
     "execution_count": 16,
     "metadata": {},
     "output_type": "execute_result"
    }
   ],
   "source": [
    "tag = soup.div.p\n",
    "tag"
   ]
  },
  {
   "cell_type": "code",
   "execution_count": 17,
   "id": "9376127e-a6cd-4641-bd45-146bce533953",
   "metadata": {},
   "outputs": [
    {
     "data": {
      "text/plain": [
       "'Search from over 110k options'"
      ]
     },
     "execution_count": 17,
     "metadata": {},
     "output_type": "execute_result"
    }
   ],
   "source": [
    "tag.string"
   ]
  },
  {
   "cell_type": "code",
   "execution_count": 18,
   "id": "3f5b5407-c81e-4533-bba1-fca5a1117cac",
   "metadata": {},
   "outputs": [
    {
     "data": {
      "text/plain": [
       "'Search from over 110k options'"
      ]
     },
     "execution_count": 18,
     "metadata": {},
     "output_type": "execute_result"
    }
   ],
   "source": [
    "tag.text"
   ]
  },
  {
   "cell_type": "code",
   "execution_count": 19,
   "id": "4922c88a-112f-410c-a4b4-6b3ed92b0166",
   "metadata": {},
   "outputs": [
    {
     "data": {
      "text/plain": [
       "' Download App via SMS'"
      ]
     },
     "execution_count": 19,
     "metadata": {},
     "output_type": "execute_result"
    }
   ],
   "source": [
    "\n",
    "category_description = soup.find(\"a\", {\"class\":\"pull-left btn-mini-app\"})\n",
    "category_description.text"
   ]
  },
  {
   "cell_type": "code",
   "execution_count": 20,
   "id": "18891db3-aee7-421b-9478-4c132374cd14",
   "metadata": {},
   "outputs": [],
   "source": [
    "category_description = soup.find(\"span\", {\"class\":\"pr-text\"})"
   ]
  },
  {
   "cell_type": "code",
   "execution_count": 21,
   "id": "afd8745a-9bac-435b-9706-d68ca5ee7b00",
   "metadata": {},
   "outputs": [
    {
     "data": {
      "text/plain": [
       "'Price Range'"
      ]
     },
     "execution_count": 21,
     "metadata": {},
     "output_type": "execute_result"
    }
   ],
   "source": [
    "category_description.text"
   ]
  },
  {
   "cell_type": "code",
   "execution_count": 22,
   "id": "3dfaa233-ed5e-4ef9-acd2-6822f88ef8ca",
   "metadata": {},
   "outputs": [
    {
     "data": {
      "text/plain": [
       "'Price Range'"
      ]
     },
     "execution_count": 22,
     "metadata": {},
     "output_type": "execute_result"
    }
   ],
   "source": [
    "category_description = soup.find(\"span\", class_=\"pr-text\")\n",
    "category_description.string"
   ]
  },
  {
   "cell_type": "code",
   "execution_count": 23,
   "id": "2afe940a-a151-4db5-88d8-37168dd95ef6",
   "metadata": {},
   "outputs": [
    {
     "name": "stdout",
     "output_type": "stream",
     "text": [
      " Download App via SMS\n"
     ]
    }
   ],
   "source": [
    "FindAll = soup.find_all('a', {'class': \"pull-left btn-mini-app\"})\n",
    "\n",
    "for i in FindAll:\n",
    "    print(i.text)"
   ]
  },
  {
   "cell_type": "code",
   "execution_count": 24,
   "id": "371b5112-cf45-41dd-886a-2863fc7885a2",
   "metadata": {},
   "outputs": [
    {
     "data": {
      "text/plain": [
       "'\\n\\n×\\n\\n\\n×\\n\\n\\n×\\n\\n'"
      ]
     },
     "execution_count": 24,
     "metadata": {},
     "output_type": "execute_result"
    }
   ],
   "source": [
    "\n",
    "FindAll = soup.find_all('div', {'class': \"container\"})\n",
    "\n",
    "# for i in FindAll:\n",
    "#     print(i.text)\n",
    "FindAll[0].text"
   ]
  },
  {
   "cell_type": "code",
   "execution_count": 25,
   "id": "174a637c-6f95-4777-ba41-6b2c4d00a01f",
   "metadata": {},
   "outputs": [
    {
     "name": "stdout",
     "output_type": "stream",
     "text": [
      "CAR INSURANCE\n"
     ]
    }
   ],
   "source": [
    "findAll = soup.find_all(string = \"CAR INSURANCE\")\n",
    "for i in findAll:\n",
    "    print(i.text)"
   ]
  },
  {
   "cell_type": "code",
   "execution_count": 26,
   "id": "29a561ea-b967-477d-8c16-a556d9e2c5b7",
   "metadata": {},
   "outputs": [
    {
     "name": "stdout",
     "output_type": "stream",
     "text": [
      "\n",
      "            4 Door\n",
      "          \n",
      "\n",
      "            5 Door\n",
      "          \n",
      "\n",
      "            2 Door\n",
      "          \n",
      "\n",
      "            3 Door\n",
      "          \n",
      "4\n"
     ]
    }
   ],
   "source": [
    "findAll = soup.find_all(string = re.compile(\"Door\"))\n",
    "for i in findAll:\n",
    "    print(i.text)\n",
    "\n",
    "print(len(findAll))"
   ]
  },
  {
   "cell_type": "markdown",
   "id": "e0342e61-4e53-4cea-97aa-a1919a8c17f0",
   "metadata": {},
   "source": [
    "Web Scraper Website"
   ]
  },
  {
   "cell_type": "code",
   "execution_count": 27,
   "id": "a6b99701-3b45-4b34-a28e-a2c44def3465",
   "metadata": {},
   "outputs": [],
   "source": [
    "url = 'https://webscraper.io/test-sites'"
   ]
  },
  {
   "cell_type": "code",
   "execution_count": 28,
   "id": "5f8cddd9-e251-482c-b555-85b8776fcbd6",
   "metadata": {},
   "outputs": [],
   "source": [
    "req = requests.get(url)"
   ]
  },
  {
   "cell_type": "code",
   "execution_count": 29,
   "id": "27264b4c-a51e-469a-8aee-d89b009b48b1",
   "metadata": {},
   "outputs": [],
   "source": [
    "soup = BeautifulSoup(req.text,'html.parser')"
   ]
  },
  {
   "cell_type": "code",
   "execution_count": 30,
   "id": "0193ad2a-701d-40fe-8369-b6c0fab74143",
   "metadata": {},
   "outputs": [
    {
     "data": {
      "text/plain": [
       "<title>Test Sites | Web Scraper</title>"
      ]
     },
     "execution_count": 30,
     "metadata": {},
     "output_type": "execute_result"
    }
   ],
   "source": [
    "soup.title"
   ]
  },
  {
   "cell_type": "code",
   "execution_count": 31,
   "id": "84b73805-505a-4740-9c02-fbcba4acf4fe",
   "metadata": {},
   "outputs": [
    {
     "data": {
      "text/plain": [
       "'Test Sites | Web Scraper'"
      ]
     },
     "execution_count": 31,
     "metadata": {},
     "output_type": "execute_result"
    }
   ],
   "source": [
    "soup.title.text"
   ]
  },
  {
   "cell_type": "code",
   "execution_count": 32,
   "id": "4143f9f6-36be-4d64-9935-579844817a85",
   "metadata": {},
   "outputs": [
    {
     "data": {
      "text/plain": [
       "'Test Sites | Web Scraper'"
      ]
     },
     "execution_count": 32,
     "metadata": {},
     "output_type": "execute_result"
    }
   ],
   "source": [
    "soup.title.string"
   ]
  },
  {
   "cell_type": "code",
   "execution_count": 33,
   "id": "a9441a27-96f4-42b3-a07b-9b769e3b4c25",
   "metadata": {},
   "outputs": [
    {
     "data": {
      "text/plain": [
       "<a data-bs-target=\".side-collapse\" data-bs-target-2=\".side-collapse-container\" data-bs-toggle=\"collapse-side\">\n",
       "<button aria-controls=\"navbar\" aria-expanded=\"false\" class=\"navbar-toggler float-end collapsed\" data-bs-target=\"#navbar\" data-bs-target-2=\".side-collapse-container\" data-bs-target-3=\".side-collapse\" data-bs-toggle=\"collapse\" type=\"button\">\n",
       "<span class=\"visually-hidden\">Toggle navigation</span>\n",
       "<span class=\"icon-bar top-bar\"></span>\n",
       "<span class=\"icon-bar middle-bar\"></span>\n",
       "<span class=\"icon-bar bottom-bar\"></span>\n",
       "<span class=\"icon-bar extra-bottom-bar\"></span>\n",
       "</button>\n",
       "</a>"
      ]
     },
     "execution_count": 33,
     "metadata": {},
     "output_type": "execute_result"
    }
   ],
   "source": [
    "soup.header.a"
   ]
  },
  {
   "cell_type": "code",
   "execution_count": 34,
   "id": "7f996dd8-978d-49a4-a327-a07a8022c086",
   "metadata": {},
   "outputs": [
    {
     "data": {
      "text/plain": [
       "<span class=\"visually-hidden\">Toggle navigation</span>"
      ]
     },
     "execution_count": 34,
     "metadata": {},
     "output_type": "execute_result"
    }
   ],
   "source": [
    "tag = soup.span\n",
    "tag"
   ]
  },
  {
   "cell_type": "code",
   "execution_count": 35,
   "id": "42a7bb9f-b000-4ef0-b15d-7252a5aab668",
   "metadata": {},
   "outputs": [],
   "source": [
    "find = soup.find('span')"
   ]
  },
  {
   "cell_type": "code",
   "execution_count": 36,
   "id": "ddcbbdbb-d237-4eed-9dea-76731214a011",
   "metadata": {},
   "outputs": [
    {
     "data": {
      "text/plain": [
       "<span class=\"visually-hidden\">Toggle navigation</span>"
      ]
     },
     "execution_count": 36,
     "metadata": {},
     "output_type": "execute_result"
    }
   ],
   "source": [
    "find"
   ]
  },
  {
   "cell_type": "code",
   "execution_count": 37,
   "id": "0c3a0a20-4e4d-40d5-9916-c080ed1783f1",
   "metadata": {},
   "outputs": [
    {
     "data": {
      "text/plain": [
       "[<span class=\"visually-hidden\">Toggle navigation</span>,\n",
       " <span class=\"icon-bar top-bar\"></span>,\n",
       " <span class=\"icon-bar middle-bar\"></span>,\n",
       " <span class=\"icon-bar bottom-bar\"></span>,\n",
       " <span class=\"icon-bar extra-bottom-bar\"></span>,\n",
       " <span class=\"crta\"></span>]"
      ]
     },
     "execution_count": 37,
     "metadata": {},
     "output_type": "execute_result"
    }
   ],
   "source": [
    "findall = soup.find_all('span')\n",
    "findall"
   ]
  },
  {
   "cell_type": "code",
   "execution_count": 38,
   "id": "484b3dff-67a7-452c-bf63-2cf8984fd3c0",
   "metadata": {},
   "outputs": [
    {
     "name": "stdout",
     "output_type": "stream",
     "text": [
      "\n",
      "1\n"
     ]
    }
   ],
   "source": [
    "findAll = soup.find_all('span',{'class':'icon-bar top-bar'})\n",
    "for i in findAll:\n",
    "    print(i.text)\n",
    "\n",
    "print(len(findAll))"
   ]
  },
  {
   "cell_type": "code",
   "execution_count": 39,
   "id": "c4472670-f87a-407e-82f8-c5fca9732dbc",
   "metadata": {},
   "outputs": [],
   "source": [
    "url ='https://webscraper.io/test-sites/e-commerce/allinone/computers/tablets'"
   ]
  },
  {
   "cell_type": "code",
   "execution_count": 40,
   "id": "22dc7cd8-3c9c-4dae-bf64-994f48317dce",
   "metadata": {},
   "outputs": [],
   "source": [
    "req = requests.get(url)"
   ]
  },
  {
   "cell_type": "raw",
   "id": "cc38a832-125d-41be-ba86-0ff9feaed9f5",
   "metadata": {},
   "source": [
    "req.status_code"
   ]
  },
  {
   "cell_type": "code",
   "execution_count": 41,
   "id": "62e8606e-4548-4bd2-8724-b64aaaa8ae9f",
   "metadata": {},
   "outputs": [],
   "source": [
    "soup = BeautifulSoup(req.text , 'html.parser')"
   ]
  },
  {
   "cell_type": "code",
   "execution_count": 42,
   "id": "1a1be437-a99f-43ef-a584-ccafab839824",
   "metadata": {},
   "outputs": [
    {
     "data": {
      "text/plain": [
       "[<a class=\"title\" href=\"/test-sites/e-commerce/allinone/product/10\" title=\"Lenovo IdeaTab\">Lenovo IdeaTab</a>,\n",
       " <a class=\"title\" href=\"/test-sites/e-commerce/allinone/product/15\" title=\"IdeaTab A3500L\">IdeaTab A3500L</a>,\n",
       " <a class=\"title\" href=\"/test-sites/e-commerce/allinone/product/11\" title=\"Acer Iconia\">Acer Iconia</a>,\n",
       " <a class=\"title\" href=\"/test-sites/e-commerce/allinone/product/18\" title=\"Galaxy Tab 3\">Galaxy Tab 3</a>,\n",
       " <a class=\"title\" href=\"/test-sites/e-commerce/allinone/product/27\" title=\"Iconia B1-730HD\">Iconia B1-730H...</a>,\n",
       " <a class=\"title\" href=\"/test-sites/e-commerce/allinone/product/23\" title=\"Memo Pad HD 7\">Memo Pad HD 7</a>,\n",
       " <a class=\"title\" href=\"/test-sites/e-commerce/allinone/product/12\" title=\"Asus MeMO Pad\">Asus MeMO Pad</a>,\n",
       " <a class=\"title\" href=\"/test-sites/e-commerce/allinone/product/13\" title=\"Amazon Kindle\">Amazon Kindle</a>,\n",
       " <a class=\"title\" href=\"/test-sites/e-commerce/allinone/product/22\" title=\"Galaxy Tab 3\">Galaxy Tab 3</a>,\n",
       " <a class=\"title\" href=\"/test-sites/e-commerce/allinone/product/28\" title=\"IdeaTab A8-50\">IdeaTab A8-50</a>,\n",
       " <a class=\"title\" href=\"/test-sites/e-commerce/allinone/product/20\" title=\"MeMO Pad 7\">MeMO Pad 7</a>,\n",
       " <a class=\"title\" href=\"/test-sites/e-commerce/allinone/product/17\" title=\"IdeaTab A3500-H\">IdeaTab A3500-...</a>,\n",
       " <a class=\"title\" href=\"/test-sites/e-commerce/allinone/product/26\" title=\"IdeaTab S5000\">IdeaTab S5000</a>,\n",
       " <a class=\"title\" href=\"/test-sites/e-commerce/allinone/product/21\" title=\"Galaxy Tab 4\">Galaxy Tab 4</a>,\n",
       " <a class=\"title\" href=\"/test-sites/e-commerce/allinone/product/16\" title=\"Galaxy Tab\">Galaxy Tab</a>,\n",
       " <a class=\"title\" href=\"/test-sites/e-commerce/allinone/product/25\" title=\"MeMo PAD FHD 10\">MeMo PAD FHD 1...</a>,\n",
       " <a class=\"title\" href=\"/test-sites/e-commerce/allinone/product/29\" title=\"Galaxy Note\">Galaxy Note</a>,\n",
       " <a class=\"title\" href=\"/test-sites/e-commerce/allinone/product/19\" title=\"Galaxy Note\">Galaxy Note</a>,\n",
       " <a class=\"title\" href=\"/test-sites/e-commerce/allinone/product/14\" title=\"iPad Mini Retina\">iPad Mini Reti...</a>,\n",
       " <a class=\"title\" href=\"/test-sites/e-commerce/allinone/product/24\" title=\"Galaxy Note 10.1\">Galaxy Note 10...</a>,\n",
       " <a class=\"title\" href=\"/test-sites/e-commerce/allinone/product/30\" title=\"Apple iPad Air\">Apple iPad Air</a>]"
      ]
     },
     "execution_count": 42,
     "metadata": {},
     "output_type": "execute_result"
    }
   ],
   "source": [
    "names = soup.find_all('a',class_=\"title\")\n",
    "names"
   ]
  },
  {
   "cell_type": "code",
   "execution_count": 43,
   "id": "00f927f4-1a0e-43d7-86d8-97bc1d2991cf",
   "metadata": {},
   "outputs": [],
   "source": [
    "product_name = []"
   ]
  },
  {
   "cell_type": "code",
   "execution_count": 44,
   "id": "bae786a0-b294-4836-8779-f88830e65720",
   "metadata": {},
   "outputs": [],
   "source": [
    "for i in names:\n",
    "    name = i.text\n",
    "    product_name.append(name)"
   ]
  },
  {
   "cell_type": "code",
   "execution_count": null,
   "id": "db7fbc17-19ff-4c5b-bad1-7cec7174a181",
   "metadata": {},
   "outputs": [],
   "source": []
  },
  {
   "cell_type": "code",
   "execution_count": 45,
   "id": "a706e4a8-7534-491a-9be1-f2ad0f41f173",
   "metadata": {},
   "outputs": [],
   "source": [
    "prices = soup.find_all(\"h4\",class_=\"price float-end card-title pull-right\")"
   ]
  },
  {
   "cell_type": "code",
   "execution_count": 46,
   "id": "7147608c-57e6-42bd-b31c-a85cfdff2ee4",
   "metadata": {},
   "outputs": [],
   "source": [
    "price_list =[]"
   ]
  },
  {
   "cell_type": "code",
   "execution_count": 47,
   "id": "3fbf760e-abad-4b6b-8837-476905708b73",
   "metadata": {},
   "outputs": [],
   "source": [
    "for i in prices:\n",
    "    price = i.text\n",
    "    price_list.append(price)"
   ]
  },
  {
   "cell_type": "code",
   "execution_count": 48,
   "id": "b016a705-6dfa-4225-ad1b-a9eba5519d60",
   "metadata": {},
   "outputs": [
    {
     "data": {
      "text/plain": [
       "['$69.99',\n",
       " '$88.99',\n",
       " '$96.99',\n",
       " '$97.99',\n",
       " '$99.99',\n",
       " '$101.99',\n",
       " '$102.99',\n",
       " '$103.99',\n",
       " '$107.99',\n",
       " '$121.99',\n",
       " '$130.99',\n",
       " '$148.99',\n",
       " '$172.99',\n",
       " '$233.99',\n",
       " '$251.99',\n",
       " '$320.99',\n",
       " '$399.99',\n",
       " '$489.99',\n",
       " '$537.99',\n",
       " '$587.99',\n",
       " '$603.99']"
      ]
     },
     "execution_count": 48,
     "metadata": {},
     "output_type": "execute_result"
    }
   ],
   "source": [
    "price_list"
   ]
  },
  {
   "cell_type": "code",
   "execution_count": 49,
   "id": "be750422-2448-4d52-9bef-e631281505b2",
   "metadata": {},
   "outputs": [],
   "source": [
    "desc = soup.find_all('p',class_=\"description card-text\")\n"
   ]
  },
  {
   "cell_type": "code",
   "execution_count": 50,
   "id": "d5f38c91-9a65-4440-8c69-e927b80d7a79",
   "metadata": {},
   "outputs": [],
   "source": [
    "desc_list =[]"
   ]
  },
  {
   "cell_type": "code",
   "execution_count": 51,
   "id": "53d624f1-1082-4b5c-a669-2c303f6c3604",
   "metadata": {},
   "outputs": [],
   "source": [
    "for i in desc:\n",
    "    des=i.text\n",
    "    desc_list.append(des)"
   ]
  },
  {
   "cell_type": "code",
   "execution_count": 52,
   "id": "8e7a6fab-b9a7-46a1-86e5-11ade746de87",
   "metadata": {},
   "outputs": [
    {
     "data": {
      "text/plain": [
       "['7\" screen, Android',\n",
       " 'Black, 7\" IPS, Quad-Core 1.2GHz, 8GB, Android 4.2',\n",
       " '7\" screen, Android, 16GB',\n",
       " '7\", 8GB, Wi-Fi, Android 4.2, White',\n",
       " 'Black, 7\", 1.6GHz Dual-Core, 8GB, Android 4.4',\n",
       " 'IPS, Dual-Core 1.2GHz, 8GB, Android 4.3',\n",
       " '7\" screen, Android, 8GB',\n",
       " '6\" screen, wifi',\n",
       " '7\", 8GB, Wi-Fi, Android 4.2, Yellow',\n",
       " 'Blue, 8\" IPS, Quad-Core 1.3GHz, 16GB, Android 4.2',\n",
       " 'White, 7\", Atom 1.2GHz, 8GB, Android 4.4',\n",
       " 'Blue, 7\" IPS, Quad-Core 1.3GHz, 8GB, 3G, Android 4.2',\n",
       " 'Silver, 7\" IPS, Quad-Core 1.2Ghz, 16GB, 3G, Android 4.2',\n",
       " 'LTE (SM-T235), Quad-Core 1.2GHz, 8GB, Black',\n",
       " '16GB, White',\n",
       " 'White, 10.1\" IPS, 1.6GHz, 2GB, 16GB, Android 4.2',\n",
       " '10.1\", 3G, Android 4.0, Garnet Red',\n",
       " '12.2\", 32GB, WiFi, Android 4.4, White',\n",
       " 'Wi-Fi + Cellular, 32GB, Silver',\n",
       " '10.1\", 32GB, Black',\n",
       " 'Wi-Fi, 64GB, Silver']"
      ]
     },
     "execution_count": 52,
     "metadata": {},
     "output_type": "execute_result"
    }
   ],
   "source": [
    "desc_list"
   ]
  },
  {
   "cell_type": "code",
   "execution_count": 53,
   "id": "2bacaf1b-d5c8-405f-974b-8cc21de7117c",
   "metadata": {},
   "outputs": [],
   "source": [
    "reviews = soup.find_all('p',class_=\"review-count float-end\")"
   ]
  },
  {
   "cell_type": "code",
   "execution_count": 54,
   "id": "18a895ca-1e91-4b97-a047-febecf3d7556",
   "metadata": {},
   "outputs": [],
   "source": [
    "reviews_list = []"
   ]
  },
  {
   "cell_type": "code",
   "execution_count": 55,
   "id": "cf3283dc-d183-4315-adb0-76a14cdfbb41",
   "metadata": {},
   "outputs": [],
   "source": [
    "for i in reviews:\n",
    "    review = i.text\n",
    "    reviews_list.append(review)"
   ]
  },
  {
   "cell_type": "code",
   "execution_count": 56,
   "id": "32117623-ba1b-45ff-a150-8dc76e45724f",
   "metadata": {},
   "outputs": [
    {
     "data": {
      "text/plain": [
       "['7 reviews',\n",
       " '7 reviews',\n",
       " '7 reviews',\n",
       " '2 reviews',\n",
       " '1 reviews',\n",
       " '10 reviews',\n",
       " '14 reviews',\n",
       " '3 reviews',\n",
       " '14 reviews',\n",
       " '13 reviews',\n",
       " '11 reviews',\n",
       " '9 reviews',\n",
       " '8 reviews',\n",
       " '1 reviews',\n",
       " '14 reviews',\n",
       " '7 reviews',\n",
       " '12 reviews',\n",
       " '9 reviews',\n",
       " '8 reviews',\n",
       " '6 reviews',\n",
       " '7 reviews']"
      ]
     },
     "execution_count": 56,
     "metadata": {},
     "output_type": "execute_result"
    }
   ],
   "source": [
    "reviews_list"
   ]
  },
  {
   "cell_type": "code",
   "execution_count": 57,
   "id": "defe1818-7d24-46f0-bb26-4c83d86dc11a",
   "metadata": {},
   "outputs": [],
   "source": [
    "df = pd.DataFrame({\"Product Name\":product_name,\"Prices\":price_list,\"discription\":desc_list,\"Number of Reviews\":reviews_list})"
   ]
  },
  {
   "cell_type": "code",
   "execution_count": 58,
   "id": "f1f70e11-3fc1-47c7-a044-0d3fc9ac1720",
   "metadata": {},
   "outputs": [
    {
     "data": {
      "text/html": [
       "<div>\n",
       "<style scoped>\n",
       "    .dataframe tbody tr th:only-of-type {\n",
       "        vertical-align: middle;\n",
       "    }\n",
       "\n",
       "    .dataframe tbody tr th {\n",
       "        vertical-align: top;\n",
       "    }\n",
       "\n",
       "    .dataframe thead th {\n",
       "        text-align: right;\n",
       "    }\n",
       "</style>\n",
       "<table border=\"1\" class=\"dataframe\">\n",
       "  <thead>\n",
       "    <tr style=\"text-align: right;\">\n",
       "      <th></th>\n",
       "      <th>Product Name</th>\n",
       "      <th>Prices</th>\n",
       "      <th>discription</th>\n",
       "      <th>Number of Reviews</th>\n",
       "    </tr>\n",
       "  </thead>\n",
       "  <tbody>\n",
       "    <tr>\n",
       "      <th>0</th>\n",
       "      <td>Lenovo IdeaTab</td>\n",
       "      <td>$69.99</td>\n",
       "      <td>7\" screen, Android</td>\n",
       "      <td>7 reviews</td>\n",
       "    </tr>\n",
       "    <tr>\n",
       "      <th>1</th>\n",
       "      <td>IdeaTab A3500L</td>\n",
       "      <td>$88.99</td>\n",
       "      <td>Black, 7\" IPS, Quad-Core 1.2GHz, 8GB, Android 4.2</td>\n",
       "      <td>7 reviews</td>\n",
       "    </tr>\n",
       "    <tr>\n",
       "      <th>2</th>\n",
       "      <td>Acer Iconia</td>\n",
       "      <td>$96.99</td>\n",
       "      <td>7\" screen, Android, 16GB</td>\n",
       "      <td>7 reviews</td>\n",
       "    </tr>\n",
       "    <tr>\n",
       "      <th>3</th>\n",
       "      <td>Galaxy Tab 3</td>\n",
       "      <td>$97.99</td>\n",
       "      <td>7\", 8GB, Wi-Fi, Android 4.2, White</td>\n",
       "      <td>2 reviews</td>\n",
       "    </tr>\n",
       "    <tr>\n",
       "      <th>4</th>\n",
       "      <td>Iconia B1-730H...</td>\n",
       "      <td>$99.99</td>\n",
       "      <td>Black, 7\", 1.6GHz Dual-Core, 8GB, Android 4.4</td>\n",
       "      <td>1 reviews</td>\n",
       "    </tr>\n",
       "    <tr>\n",
       "      <th>5</th>\n",
       "      <td>Memo Pad HD 7</td>\n",
       "      <td>$101.99</td>\n",
       "      <td>IPS, Dual-Core 1.2GHz, 8GB, Android 4.3</td>\n",
       "      <td>10 reviews</td>\n",
       "    </tr>\n",
       "    <tr>\n",
       "      <th>6</th>\n",
       "      <td>Asus MeMO Pad</td>\n",
       "      <td>$102.99</td>\n",
       "      <td>7\" screen, Android, 8GB</td>\n",
       "      <td>14 reviews</td>\n",
       "    </tr>\n",
       "    <tr>\n",
       "      <th>7</th>\n",
       "      <td>Amazon Kindle</td>\n",
       "      <td>$103.99</td>\n",
       "      <td>6\" screen, wifi</td>\n",
       "      <td>3 reviews</td>\n",
       "    </tr>\n",
       "    <tr>\n",
       "      <th>8</th>\n",
       "      <td>Galaxy Tab 3</td>\n",
       "      <td>$107.99</td>\n",
       "      <td>7\", 8GB, Wi-Fi, Android 4.2, Yellow</td>\n",
       "      <td>14 reviews</td>\n",
       "    </tr>\n",
       "    <tr>\n",
       "      <th>9</th>\n",
       "      <td>IdeaTab A8-50</td>\n",
       "      <td>$121.99</td>\n",
       "      <td>Blue, 8\" IPS, Quad-Core 1.3GHz, 16GB, Android 4.2</td>\n",
       "      <td>13 reviews</td>\n",
       "    </tr>\n",
       "    <tr>\n",
       "      <th>10</th>\n",
       "      <td>MeMO Pad 7</td>\n",
       "      <td>$130.99</td>\n",
       "      <td>White, 7\", Atom 1.2GHz, 8GB, Android 4.4</td>\n",
       "      <td>11 reviews</td>\n",
       "    </tr>\n",
       "    <tr>\n",
       "      <th>11</th>\n",
       "      <td>IdeaTab A3500-...</td>\n",
       "      <td>$148.99</td>\n",
       "      <td>Blue, 7\" IPS, Quad-Core 1.3GHz, 8GB, 3G, Andro...</td>\n",
       "      <td>9 reviews</td>\n",
       "    </tr>\n",
       "    <tr>\n",
       "      <th>12</th>\n",
       "      <td>IdeaTab S5000</td>\n",
       "      <td>$172.99</td>\n",
       "      <td>Silver, 7\" IPS, Quad-Core 1.2Ghz, 16GB, 3G, An...</td>\n",
       "      <td>8 reviews</td>\n",
       "    </tr>\n",
       "    <tr>\n",
       "      <th>13</th>\n",
       "      <td>Galaxy Tab 4</td>\n",
       "      <td>$233.99</td>\n",
       "      <td>LTE (SM-T235), Quad-Core 1.2GHz, 8GB, Black</td>\n",
       "      <td>1 reviews</td>\n",
       "    </tr>\n",
       "    <tr>\n",
       "      <th>14</th>\n",
       "      <td>Galaxy Tab</td>\n",
       "      <td>$251.99</td>\n",
       "      <td>16GB, White</td>\n",
       "      <td>14 reviews</td>\n",
       "    </tr>\n",
       "    <tr>\n",
       "      <th>15</th>\n",
       "      <td>MeMo PAD FHD 1...</td>\n",
       "      <td>$320.99</td>\n",
       "      <td>White, 10.1\" IPS, 1.6GHz, 2GB, 16GB, Android 4.2</td>\n",
       "      <td>7 reviews</td>\n",
       "    </tr>\n",
       "    <tr>\n",
       "      <th>16</th>\n",
       "      <td>Galaxy Note</td>\n",
       "      <td>$399.99</td>\n",
       "      <td>10.1\", 3G, Android 4.0, Garnet Red</td>\n",
       "      <td>12 reviews</td>\n",
       "    </tr>\n",
       "    <tr>\n",
       "      <th>17</th>\n",
       "      <td>Galaxy Note</td>\n",
       "      <td>$489.99</td>\n",
       "      <td>12.2\", 32GB, WiFi, Android 4.4, White</td>\n",
       "      <td>9 reviews</td>\n",
       "    </tr>\n",
       "    <tr>\n",
       "      <th>18</th>\n",
       "      <td>iPad Mini Reti...</td>\n",
       "      <td>$537.99</td>\n",
       "      <td>Wi-Fi + Cellular, 32GB, Silver</td>\n",
       "      <td>8 reviews</td>\n",
       "    </tr>\n",
       "    <tr>\n",
       "      <th>19</th>\n",
       "      <td>Galaxy Note 10...</td>\n",
       "      <td>$587.99</td>\n",
       "      <td>10.1\", 32GB, Black</td>\n",
       "      <td>6 reviews</td>\n",
       "    </tr>\n",
       "    <tr>\n",
       "      <th>20</th>\n",
       "      <td>Apple iPad Air</td>\n",
       "      <td>$603.99</td>\n",
       "      <td>Wi-Fi, 64GB, Silver</td>\n",
       "      <td>7 reviews</td>\n",
       "    </tr>\n",
       "  </tbody>\n",
       "</table>\n",
       "</div>"
      ],
      "text/plain": [
       "         Product Name   Prices  \\\n",
       "0      Lenovo IdeaTab   $69.99   \n",
       "1      IdeaTab A3500L   $88.99   \n",
       "2         Acer Iconia   $96.99   \n",
       "3        Galaxy Tab 3   $97.99   \n",
       "4   Iconia B1-730H...   $99.99   \n",
       "5       Memo Pad HD 7  $101.99   \n",
       "6       Asus MeMO Pad  $102.99   \n",
       "7       Amazon Kindle  $103.99   \n",
       "8        Galaxy Tab 3  $107.99   \n",
       "9       IdeaTab A8-50  $121.99   \n",
       "10         MeMO Pad 7  $130.99   \n",
       "11  IdeaTab A3500-...  $148.99   \n",
       "12      IdeaTab S5000  $172.99   \n",
       "13       Galaxy Tab 4  $233.99   \n",
       "14         Galaxy Tab  $251.99   \n",
       "15  MeMo PAD FHD 1...  $320.99   \n",
       "16        Galaxy Note  $399.99   \n",
       "17        Galaxy Note  $489.99   \n",
       "18  iPad Mini Reti...  $537.99   \n",
       "19  Galaxy Note 10...  $587.99   \n",
       "20     Apple iPad Air  $603.99   \n",
       "\n",
       "                                          discription Number of Reviews  \n",
       "0                                  7\" screen, Android         7 reviews  \n",
       "1   Black, 7\" IPS, Quad-Core 1.2GHz, 8GB, Android 4.2         7 reviews  \n",
       "2                            7\" screen, Android, 16GB         7 reviews  \n",
       "3                  7\", 8GB, Wi-Fi, Android 4.2, White         2 reviews  \n",
       "4       Black, 7\", 1.6GHz Dual-Core, 8GB, Android 4.4         1 reviews  \n",
       "5             IPS, Dual-Core 1.2GHz, 8GB, Android 4.3        10 reviews  \n",
       "6                             7\" screen, Android, 8GB        14 reviews  \n",
       "7                                     6\" screen, wifi         3 reviews  \n",
       "8                 7\", 8GB, Wi-Fi, Android 4.2, Yellow        14 reviews  \n",
       "9   Blue, 8\" IPS, Quad-Core 1.3GHz, 16GB, Android 4.2        13 reviews  \n",
       "10           White, 7\", Atom 1.2GHz, 8GB, Android 4.4        11 reviews  \n",
       "11  Blue, 7\" IPS, Quad-Core 1.3GHz, 8GB, 3G, Andro...         9 reviews  \n",
       "12  Silver, 7\" IPS, Quad-Core 1.2Ghz, 16GB, 3G, An...         8 reviews  \n",
       "13        LTE (SM-T235), Quad-Core 1.2GHz, 8GB, Black         1 reviews  \n",
       "14                                        16GB, White        14 reviews  \n",
       "15   White, 10.1\" IPS, 1.6GHz, 2GB, 16GB, Android 4.2         7 reviews  \n",
       "16                 10.1\", 3G, Android 4.0, Garnet Red        12 reviews  \n",
       "17              12.2\", 32GB, WiFi, Android 4.4, White         9 reviews  \n",
       "18                     Wi-Fi + Cellular, 32GB, Silver         8 reviews  \n",
       "19                                 10.1\", 32GB, Black         6 reviews  \n",
       "20                                Wi-Fi, 64GB, Silver         7 reviews  "
      ]
     },
     "execution_count": 58,
     "metadata": {},
     "output_type": "execute_result"
    }
   ],
   "source": [
    "df"
   ]
  },
  {
   "cell_type": "code",
   "execution_count": 59,
   "id": "c3b9718c-ac2f-4895-8c93-3ff6baf6d85b",
   "metadata": {},
   "outputs": [],
   "source": [
    "df.to_csv(\"Product Details.csv\")"
   ]
  },
  {
   "cell_type": "code",
   "execution_count": null,
   "id": "585d513c-a039-4765-a240-c33cff98f06f",
   "metadata": {},
   "outputs": [],
   "source": []
  }
 ],
 "metadata": {
  "kernelspec": {
   "display_name": "Python 3 (ipykernel)",
   "language": "python",
   "name": "python3"
  },
  "language_info": {
   "codemirror_mode": {
    "name": "ipython",
    "version": 3
   },
   "file_extension": ".py",
   "mimetype": "text/x-python",
   "name": "python",
   "nbconvert_exporter": "python",
   "pygments_lexer": "ipython3",
   "version": "3.12.3"
  }
 },
 "nbformat": 4,
 "nbformat_minor": 5
}
