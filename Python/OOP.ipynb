{
 "cells": [
  {
   "cell_type": "markdown",
   "id": "b9d59ceb-ec90-4332-b3b7-549c01ffdca8",
   "metadata": {},
   "source": [
    "Python Object-Oriented Programming"
   ]
  },
  {
   "cell_type": "code",
   "execution_count": 19,
   "id": "d7e4e76a-9fc6-49a6-825b-734aee7a9756",
   "metadata": {},
   "outputs": [
    {
     "name": "stdout",
     "output_type": "stream",
     "text": [
      "Buddy says woof\n"
     ]
    }
   ],
   "source": [
    "class Dog:\n",
    "    def __init__(self, name, age):\n",
    "        self.name = name\n",
    "        self.age = age\n",
    "   \n",
    "    def bark(self):\n",
    "        return f\"{self.name} says woof\"\n",
    "\n",
    "\n",
    "my_dog = Dog(\"Buddy\", 5)\n",
    "print(my_dog.bark()) "
   ]
  },
  {
   "cell_type": "code",
   "execution_count": 14,
   "id": "023161f4-5c04-43e8-927e-0da5268fbe3f",
   "metadata": {},
   "outputs": [
    {
     "name": "stdout",
     "output_type": "stream",
     "text": [
      "Buddy says Woof!\n"
     ]
    }
   ],
   "source": []
  },
  {
   "cell_type": "code",
   "execution_count": 5,
   "id": "3d388211-ddcb-4a19-bf7b-16ab3db09bb6",
   "metadata": {},
   "outputs": [
    {
     "name": "stdout",
     "output_type": "stream",
     "text": [
      "samadchandio@gmail.com\n"
     ]
    }
   ],
   "source": []
  },
  {
   "cell_type": "code",
   "execution_count": null,
   "id": "41275cc1-17a9-433d-a6e5-c6ab9ae86312",
   "metadata": {},
   "outputs": [],
   "source": []
  }
 ],
 "metadata": {
  "kernelspec": {
   "display_name": "Python 3 (ipykernel)",
   "language": "python",
   "name": "python3"
  },
  "language_info": {
   "codemirror_mode": {
    "name": "ipython",
    "version": 3
   },
   "file_extension": ".py",
   "mimetype": "text/x-python",
   "name": "python",
   "nbconvert_exporter": "python",
   "pygments_lexer": "ipython3",
   "version": "3.12.3"
  }
 },
 "nbformat": 4,
 "nbformat_minor": 5
}
